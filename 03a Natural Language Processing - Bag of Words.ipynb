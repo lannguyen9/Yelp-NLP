{
 "cells": [
  {
   "cell_type": "markdown",
   "metadata": {},
   "source": [
    "# 03 NLP on Reviews"
   ]
  },
  {
   "cell_type": "code",
   "execution_count": 1,
   "metadata": {},
   "outputs": [],
   "source": [
    "import numpy as np\n",
    "import pandas as pd"
   ]
  },
  {
   "cell_type": "code",
   "execution_count": 2,
   "metadata": {},
   "outputs": [],
   "source": [
    "#import data\n",
    "raw_data = pd.read_csv('../Yelp-NLP-Recommender/data/restaurant_reviews_las_vegas.csv')"
   ]
  },
  {
   "cell_type": "code",
   "execution_count": 3,
   "metadata": {},
   "outputs": [
    {
     "data": {
      "text/html": [
       "<div>\n",
       "<style scoped>\n",
       "    .dataframe tbody tr th:only-of-type {\n",
       "        vertical-align: middle;\n",
       "    }\n",
       "\n",
       "    .dataframe tbody tr th {\n",
       "        vertical-align: top;\n",
       "    }\n",
       "\n",
       "    .dataframe thead th {\n",
       "        text-align: right;\n",
       "    }\n",
       "</style>\n",
       "<table border=\"1\" class=\"dataframe\">\n",
       "  <thead>\n",
       "    <tr style=\"text-align: right;\">\n",
       "      <th></th>\n",
       "      <th>business_id</th>\n",
       "      <th>name</th>\n",
       "      <th>neighborhood</th>\n",
       "      <th>address</th>\n",
       "      <th>city</th>\n",
       "      <th>state</th>\n",
       "      <th>postal_code</th>\n",
       "      <th>latitude</th>\n",
       "      <th>longitude</th>\n",
       "      <th>stars_x</th>\n",
       "      <th>...</th>\n",
       "      <th>is_open</th>\n",
       "      <th>categories</th>\n",
       "      <th>review_id</th>\n",
       "      <th>user_id</th>\n",
       "      <th>stars_y</th>\n",
       "      <th>date</th>\n",
       "      <th>text</th>\n",
       "      <th>useful</th>\n",
       "      <th>funny</th>\n",
       "      <th>cool</th>\n",
       "    </tr>\n",
       "  </thead>\n",
       "  <tbody>\n",
       "    <tr>\n",
       "      <th>0</th>\n",
       "      <td>Pd52CjgyEU3Rb8co6QfTPw</td>\n",
       "      <td>\"Flight Deck Bar &amp; Grill\"</td>\n",
       "      <td>Southeast</td>\n",
       "      <td>\"6730 S Las Vegas Blvd\"</td>\n",
       "      <td>Las Vegas</td>\n",
       "      <td>NV</td>\n",
       "      <td>89119.0</td>\n",
       "      <td>36.066914</td>\n",
       "      <td>-115.170848</td>\n",
       "      <td>4.0</td>\n",
       "      <td>...</td>\n",
       "      <td>1.0</td>\n",
       "      <td>Nightlife;Bars;Barbeque;Sports Bars;American (...</td>\n",
       "      <td>aG4aEOW86hut943oqL_DOg</td>\n",
       "      <td>9kV4tmBcE-l5tJqzgKjZRA</td>\n",
       "      <td>4.0</td>\n",
       "      <td>2017-03-27</td>\n",
       "      <td>Nice, open bar with great views of the strip a...</td>\n",
       "      <td>0.0</td>\n",
       "      <td>0.0</td>\n",
       "      <td>1.0</td>\n",
       "    </tr>\n",
       "    <tr>\n",
       "      <th>1</th>\n",
       "      <td>Pd52CjgyEU3Rb8co6QfTPw</td>\n",
       "      <td>\"Flight Deck Bar &amp; Grill\"</td>\n",
       "      <td>Southeast</td>\n",
       "      <td>\"6730 S Las Vegas Blvd\"</td>\n",
       "      <td>Las Vegas</td>\n",
       "      <td>NV</td>\n",
       "      <td>89119.0</td>\n",
       "      <td>36.066914</td>\n",
       "      <td>-115.170848</td>\n",
       "      <td>4.0</td>\n",
       "      <td>...</td>\n",
       "      <td>1.0</td>\n",
       "      <td>Nightlife;Bars;Barbeque;Sports Bars;American (...</td>\n",
       "      <td>fQpivmd02GA4eZJRZGgDQQ</td>\n",
       "      <td>i7Z7iiDSbWq-npAYHQUeew</td>\n",
       "      <td>5.0</td>\n",
       "      <td>2016-08-27</td>\n",
       "      <td>We usually stop here after using the driving r...</td>\n",
       "      <td>0.0</td>\n",
       "      <td>0.0</td>\n",
       "      <td>0.0</td>\n",
       "    </tr>\n",
       "    <tr>\n",
       "      <th>2</th>\n",
       "      <td>Pd52CjgyEU3Rb8co6QfTPw</td>\n",
       "      <td>\"Flight Deck Bar &amp; Grill\"</td>\n",
       "      <td>Southeast</td>\n",
       "      <td>\"6730 S Las Vegas Blvd\"</td>\n",
       "      <td>Las Vegas</td>\n",
       "      <td>NV</td>\n",
       "      <td>89119.0</td>\n",
       "      <td>36.066914</td>\n",
       "      <td>-115.170848</td>\n",
       "      <td>4.0</td>\n",
       "      <td>...</td>\n",
       "      <td>1.0</td>\n",
       "      <td>Nightlife;Bars;Barbeque;Sports Bars;American (...</td>\n",
       "      <td>3recIhisA9vC4wnQOMCj7g</td>\n",
       "      <td>7Iga45IMB_VKyPZnbhSE2w</td>\n",
       "      <td>1.0</td>\n",
       "      <td>2016-01-09</td>\n",
       "      <td>The first time we ate here everything was good...</td>\n",
       "      <td>1.0</td>\n",
       "      <td>1.0</td>\n",
       "      <td>0.0</td>\n",
       "    </tr>\n",
       "    <tr>\n",
       "      <th>3</th>\n",
       "      <td>Pd52CjgyEU3Rb8co6QfTPw</td>\n",
       "      <td>\"Flight Deck Bar &amp; Grill\"</td>\n",
       "      <td>Southeast</td>\n",
       "      <td>\"6730 S Las Vegas Blvd\"</td>\n",
       "      <td>Las Vegas</td>\n",
       "      <td>NV</td>\n",
       "      <td>89119.0</td>\n",
       "      <td>36.066914</td>\n",
       "      <td>-115.170848</td>\n",
       "      <td>4.0</td>\n",
       "      <td>...</td>\n",
       "      <td>1.0</td>\n",
       "      <td>Nightlife;Bars;Barbeque;Sports Bars;American (...</td>\n",
       "      <td>18i3YtCuEGMxYSS7fQdR8Q</td>\n",
       "      <td>IvBzaJeCcuChLuKGq3xhxA</td>\n",
       "      <td>2.0</td>\n",
       "      <td>2016-08-22</td>\n",
       "      <td>So I took my daughter there for breakfast and ...</td>\n",
       "      <td>1.0</td>\n",
       "      <td>0.0</td>\n",
       "      <td>0.0</td>\n",
       "    </tr>\n",
       "    <tr>\n",
       "      <th>4</th>\n",
       "      <td>Pd52CjgyEU3Rb8co6QfTPw</td>\n",
       "      <td>\"Flight Deck Bar &amp; Grill\"</td>\n",
       "      <td>Southeast</td>\n",
       "      <td>\"6730 S Las Vegas Blvd\"</td>\n",
       "      <td>Las Vegas</td>\n",
       "      <td>NV</td>\n",
       "      <td>89119.0</td>\n",
       "      <td>36.066914</td>\n",
       "      <td>-115.170848</td>\n",
       "      <td>4.0</td>\n",
       "      <td>...</td>\n",
       "      <td>1.0</td>\n",
       "      <td>Nightlife;Bars;Barbeque;Sports Bars;American (...</td>\n",
       "      <td>brbrSd8nHkAEoN56ADEl9A</td>\n",
       "      <td>nIV1-sMoRFrnEtO1TUfLZQ</td>\n",
       "      <td>1.0</td>\n",
       "      <td>2015-10-28</td>\n",
       "      <td>This restaurant has a new name it used to be c...</td>\n",
       "      <td>1.0</td>\n",
       "      <td>0.0</td>\n",
       "      <td>0.0</td>\n",
       "    </tr>\n",
       "  </tbody>\n",
       "</table>\n",
       "<p>5 rows × 21 columns</p>\n",
       "</div>"
      ],
      "text/plain": [
       "              business_id                       name neighborhood  \\\n",
       "0  Pd52CjgyEU3Rb8co6QfTPw  \"Flight Deck Bar & Grill\"    Southeast   \n",
       "1  Pd52CjgyEU3Rb8co6QfTPw  \"Flight Deck Bar & Grill\"    Southeast   \n",
       "2  Pd52CjgyEU3Rb8co6QfTPw  \"Flight Deck Bar & Grill\"    Southeast   \n",
       "3  Pd52CjgyEU3Rb8co6QfTPw  \"Flight Deck Bar & Grill\"    Southeast   \n",
       "4  Pd52CjgyEU3Rb8co6QfTPw  \"Flight Deck Bar & Grill\"    Southeast   \n",
       "\n",
       "                   address       city state  postal_code   latitude  \\\n",
       "0  \"6730 S Las Vegas Blvd\"  Las Vegas    NV      89119.0  36.066914   \n",
       "1  \"6730 S Las Vegas Blvd\"  Las Vegas    NV      89119.0  36.066914   \n",
       "2  \"6730 S Las Vegas Blvd\"  Las Vegas    NV      89119.0  36.066914   \n",
       "3  \"6730 S Las Vegas Blvd\"  Las Vegas    NV      89119.0  36.066914   \n",
       "4  \"6730 S Las Vegas Blvd\"  Las Vegas    NV      89119.0  36.066914   \n",
       "\n",
       "    longitude  stars_x  ...   is_open  \\\n",
       "0 -115.170848      4.0  ...       1.0   \n",
       "1 -115.170848      4.0  ...       1.0   \n",
       "2 -115.170848      4.0  ...       1.0   \n",
       "3 -115.170848      4.0  ...       1.0   \n",
       "4 -115.170848      4.0  ...       1.0   \n",
       "\n",
       "                                          categories               review_id  \\\n",
       "0  Nightlife;Bars;Barbeque;Sports Bars;American (...  aG4aEOW86hut943oqL_DOg   \n",
       "1  Nightlife;Bars;Barbeque;Sports Bars;American (...  fQpivmd02GA4eZJRZGgDQQ   \n",
       "2  Nightlife;Bars;Barbeque;Sports Bars;American (...  3recIhisA9vC4wnQOMCj7g   \n",
       "3  Nightlife;Bars;Barbeque;Sports Bars;American (...  18i3YtCuEGMxYSS7fQdR8Q   \n",
       "4  Nightlife;Bars;Barbeque;Sports Bars;American (...  brbrSd8nHkAEoN56ADEl9A   \n",
       "\n",
       "                  user_id stars_y        date  \\\n",
       "0  9kV4tmBcE-l5tJqzgKjZRA     4.0  2017-03-27   \n",
       "1  i7Z7iiDSbWq-npAYHQUeew     5.0  2016-08-27   \n",
       "2  7Iga45IMB_VKyPZnbhSE2w     1.0  2016-01-09   \n",
       "3  IvBzaJeCcuChLuKGq3xhxA     2.0  2016-08-22   \n",
       "4  nIV1-sMoRFrnEtO1TUfLZQ     1.0  2015-10-28   \n",
       "\n",
       "                                                text useful  funny  cool  \n",
       "0  Nice, open bar with great views of the strip a...    0.0    0.0   1.0  \n",
       "1  We usually stop here after using the driving r...    0.0    0.0   0.0  \n",
       "2  The first time we ate here everything was good...    1.0    1.0   0.0  \n",
       "3  So I took my daughter there for breakfast and ...    1.0    0.0   0.0  \n",
       "4  This restaurant has a new name it used to be c...    1.0    0.0   0.0  \n",
       "\n",
       "[5 rows x 21 columns]"
      ]
     },
     "execution_count": 3,
     "metadata": {},
     "output_type": "execute_result"
    }
   ],
   "source": [
    "raw_data.head()"
   ]
  },
  {
   "cell_type": "code",
   "execution_count": 33,
   "metadata": {},
   "outputs": [],
   "source": [
    "text = raw_data['text']\n",
    "ratings = raw_data['stars_y']"
   ]
  },
  {
   "cell_type": "code",
   "execution_count": 5,
   "metadata": {},
   "outputs": [
    {
     "data": {
      "text/plain": [
       "(929607,)"
      ]
     },
     "execution_count": 5,
     "metadata": {},
     "output_type": "execute_result"
    }
   ],
   "source": [
    "text.shape"
   ]
  },
  {
   "cell_type": "code",
   "execution_count": 6,
   "metadata": {},
   "outputs": [
    {
     "data": {
      "text/plain": [
       "0    Nice, open bar with great views of the strip a...\n",
       "1    We usually stop here after using the driving r...\n",
       "2    The first time we ate here everything was good...\n",
       "3    So I took my daughter there for breakfast and ...\n",
       "4    This restaurant has a new name it used to be c...\n",
       "Name: text, dtype: object"
      ]
     },
     "execution_count": 6,
     "metadata": {},
     "output_type": "execute_result"
    }
   ],
   "source": [
    "text.head()"
   ]
  },
  {
   "cell_type": "code",
   "execution_count": 1,
   "metadata": {},
   "outputs": [],
   "source": [
    "#NLP Processing\n",
    "import nltk\n",
    "#import spacy\n",
    "\n",
    "#nlp = spacy.load('en_core_web_sm')"
   ]
  },
  {
   "cell_type": "code",
   "execution_count": 11,
   "metadata": {},
   "outputs": [
    {
     "data": {
      "text/plain": [
       "'Nice, open bar with great views of the strip and golf course.  Patio seating also.  Nice happy hour prices.  Had the carnitas nachos...very good.  And they serve breakfast all day.  Not noisy or smoky'"
      ]
     },
     "execution_count": 11,
     "metadata": {},
     "output_type": "execute_result"
    }
   ],
   "source": [
    "text[0]"
   ]
  },
  {
   "cell_type": "code",
   "execution_count": 13,
   "metadata": {},
   "outputs": [],
   "source": [
    "#doc = nlp(text[0])\n",
    "#doc"
   ]
  },
  {
   "cell_type": "code",
   "execution_count": 19,
   "metadata": {
    "scrolled": true
   },
   "outputs": [
    {
     "name": "stdout",
     "output_type": "stream",
     "text": [
      "Nice nice ADJ JJ amod Xxxx True False\n",
      ", , PUNCT , punct , False False\n",
      "open open ADJ JJ amod xxxx True False\n",
      "bar bar NOUN NN ROOT xxx True False\n",
      "with with ADP IN prep xxxx True True\n",
      "great great ADJ JJ amod xxxx True False\n",
      "views view NOUN NNS pobj xxxx True False\n",
      "of of ADP IN prep xx True True\n",
      "the the DET DT det xxx True True\n",
      "strip strip NOUN NN pobj xxxx True False\n",
      "and and CCONJ CC cc xxx True True\n",
      "golf golf NOUN NN compound xxxx True False\n",
      "course course NOUN NN conj xxxx True False\n",
      ". . PUNCT . punct . False False\n",
      "    SPACE     False False\n",
      "Patio patio PROPN NNP nsubj Xxxxx True False\n",
      "seating seat VERB VBG ROOT xxxx True False\n",
      "also also ADV RB advmod xxxx True True\n",
      ". . PUNCT . punct . False False\n",
      "    SPACE     False False\n",
      "Nice nice PROPN NNP amod Xxxx True False\n",
      "happy happy ADJ JJ amod xxxx True False\n",
      "hour hour NOUN NN compound xxxx True False\n",
      "prices price NOUN NNS ROOT xxxx True False\n",
      ". . PUNCT . punct . False False\n",
      "    SPACE     False False\n",
      "Had have VERB VBD ROOT Xxx True False\n",
      "the the DET DT det xxx True True\n",
      "carnitas carnita NOUN NNS compound xxxx True False\n",
      "nachos nachos ADJ JJ dobj xxxx True False\n",
      "... ... PUNCT : punct ... False False\n",
      "very very ADV RB advmod xxxx True True\n",
      "good good ADJ JJ amod xxxx True False\n",
      ". . PUNCT . punct . False False\n",
      "    SPACE     False False\n",
      "And and CCONJ CC cc Xxx True False\n",
      "they -PRON- PRON PRP nsubj xxxx True True\n",
      "serve serve VERB VBP ROOT xxxx True False\n",
      "breakfast breakfast NOUN NN dobj xxxx True False\n",
      "all all DET DT det xxx True True\n",
      "day day NOUN NN npadvmod xxx True False\n",
      ". . PUNCT . punct . False False\n",
      "    SPACE     False False\n",
      "Not not ADV RB neg Xxx True False\n",
      "noisy noisy ADJ JJ ROOT xxxx True False\n",
      "or or CCONJ CC cc xx True True\n",
      "smoky smoky ADJ JJ conj xxxx True False\n"
     ]
    }
   ],
   "source": [
    "#An Example of what spaCy can do\n",
    "#for token in doc:\n",
    "#    print(token.text, token.lemma_, token.pos_, token.tag_, token.dep_,\n",
    "#          token.shape_, token.is_alpha, token.is_stop)"
   ]
  },
  {
   "cell_type": "code",
   "execution_count": 26,
   "metadata": {},
   "outputs": [
    {
     "data": {
      "text/html": [
       "<div class=\"entities\" style=\"line-height: 2.5\">Nice, open bar with great views of the strip and golf course.  Patio seating also.  Nice happy hour prices.  Had the carnitas nachos...very good.  And they serve breakfast \n",
       "<mark class=\"entity\" style=\"background: #bfe1d9; padding: 0.45em 0.6em; margin: 0 0.25em; line-height: 1; border-radius: 0.35em; box-decoration-break: clone; -webkit-box-decoration-break: clone\">\n",
       "    all day\n",
       "    <span style=\"font-size: 0.8em; font-weight: bold; line-height: 1; border-radius: 0.35em; text-transform: uppercase; vertical-align: middle; margin-left: 0.5rem\">DATE</span>\n",
       "</mark>\n",
       ".  Not noisy or smoky</div>"
      ],
      "text/plain": [
       "<IPython.core.display.HTML object>"
      ]
     },
     "metadata": {},
     "output_type": "display_data"
    }
   ],
   "source": [
    "#from spacy import displacy\n",
    "#\n",
    "#displacy.render(doc,style='ent', jupyter=True)"
   ]
  },
  {
   "cell_type": "markdown",
   "metadata": {},
   "source": [
    "## Need to narrow down the possible choices for word vectorization (converting words to probability matrices based on context and neighbors)."
   ]
  },
  {
   "cell_type": "markdown",
   "metadata": {},
   "source": [
    "### Possible Options ###\n",
    "Genism: https://radimrehurek.com/gensim/ <br>\n",
    "fastText: https://fasttext.cc/ <br>\n",
    "word2vec: https://code.google.com/archive/p/word2vec/ <br>\n",
    "sklearn: https://scikit-learn.org/stable/modules/classes.html#module-sklearn.feature_extraction.text\n",
    "\n"
   ]
  },
  {
   "cell_type": "markdown",
   "metadata": {},
   "source": [
    "### My first choice is sklearn.\n",
    "Example of two sentence NLP with sklearn's CountVectorizer, term frequency, and nltk's word vocabulary.\n",
    "\n",
    "This process is similar to that of http://www.pitt.edu/~naraehan/presentation/Movie+Reviews+sentiment+analysis+with+Scikit-Learn.html"
   ]
  },
  {
   "cell_type": "code",
   "execution_count": 26,
   "metadata": {},
   "outputs": [
    {
     "name": "stdout",
     "output_type": "stream",
     "text": [
      "[nltk_data] Downloading package punkt to\n",
      "[nltk_data]     C:\\Users\\crazy99ta\\AppData\\Roaming\\nltk_data...\n",
      "[nltk_data]   Package punkt is already up-to-date!\n"
     ]
    },
    {
     "data": {
      "text/plain": [
       "True"
      ]
     },
     "execution_count": 26,
     "metadata": {},
     "output_type": "execute_result"
    }
   ],
   "source": [
    "from sklearn.feature_extraction.text import CountVectorizer\n",
    "import nltk\n",
    "nltk.download('punkt')\n"
   ]
  },
  {
   "cell_type": "code",
   "execution_count": 10,
   "metadata": {},
   "outputs": [],
   "source": [
    "# Initialize a CoutVectorizer to use NLTK's tokenizer instead of its \n",
    "# default one (which ignores punctuation and stopwords). \n",
    "# Minimum document frequency set to 1. \n",
    "foovec = CountVectorizer(min_df=1, tokenizer=nltk.word_tokenize)"
   ]
  },
  {
   "cell_type": "code",
   "execution_count": 18,
   "metadata": {},
   "outputs": [
    {
     "data": {
      "text/plain": [
       "['Nice, open bar with great views of the strip and golf course.  Patio seating also.  Nice happy hour prices.  Had the carnitas nachos...very good.  And they serve breakfast all day.  Not noisy or smoky',\n",
       " \"We usually stop here after using the driving range. The place is very clean,including the restrooms. The food is good and the employees are friendly. The atmosphere is casual and relaxing. The view of the Strip is a plus.There are numerous TV's to watch sports.\\r\\nThis would be a great place to watch the football games after hitting a bucket of balls.\"]"
      ]
     },
     "execution_count": 18,
     "metadata": {},
     "output_type": "execute_result"
    }
   ],
   "source": [
    "# First two reviews.\n",
    "sents = [text[0], text[1]]\n",
    "sents"
   ]
  },
  {
   "cell_type": "code",
   "execution_count": 24,
   "metadata": {},
   "outputs": [
    {
     "name": "stdout",
     "output_type": "stream",
     "text": [
      "Pretty printing has been turned OFF\n"
     ]
    }
   ],
   "source": [
    "%pprint"
   ]
  },
  {
   "cell_type": "code",
   "execution_count": 25,
   "metadata": {},
   "outputs": [
    {
     "data": {
      "text/plain": [
       "{'nice': 38, ',': 1, 'open': 43, 'bar': 12, 'with': 70, 'great': 29, 'views': 67, 'of': 42, 'the': 58, 'strip': 57, 'and': 8, 'golf': 27, 'course': 19, '.': 2, 'patio': 45, 'seating': 52, 'also': 7, 'happy': 31, 'hour': 34, 'prices': 48, 'had': 30, 'carnitas': 16, 'nachos': 37, '...': 3, 'very': 65, 'good': 28, 'they': 59, 'serve': 53, 'breakfast': 14, 'all': 6, 'day': 20, 'not': 40, 'noisy': 39, 'or': 44, 'smoky': 54, 'we': 69, 'usually': 64, 'stop': 56, 'here': 32, 'after': 5, 'using': 63, 'driving': 21, 'range': 49, 'place': 46, 'is': 36, 'clean': 18, 'including': 35, 'restrooms': 51, 'food': 23, 'employees': 22, 'are': 9, 'friendly': 25, 'atmosphere': 10, 'casual': 17, 'relaxing': 50, 'view': 66, 'a': 4, 'plus.there': 47, 'numerous': 41, 'tv': 62, \"'s\": 0, 'to': 61, 'watch': 68, 'sports': 55, 'this': 60, 'would': 71, 'be': 13, 'football': 24, 'games': 26, 'hitting': 33, 'bucket': 15, 'balls': 11}"
      ]
     },
     "execution_count": 25,
     "metadata": {},
     "output_type": "execute_result"
    }
   ],
   "source": [
    "# sents turned into sparse vector of word frequency counts\n",
    "sents_counts = foovec.fit_transform(sents)\n",
    "# foovec now contains vocab dictionary which maps unique words to indexes\n",
    "foovec.vocabulary_"
   ]
  },
  {
   "cell_type": "code",
   "execution_count": 28,
   "metadata": {},
   "outputs": [
    {
     "data": {
      "text/plain": [
       "(2, 72)"
      ]
     },
     "execution_count": 28,
     "metadata": {},
     "output_type": "execute_result"
    }
   ],
   "source": [
    "# Two sentences with 72 unique words\n",
    "sents_counts.shape"
   ]
  },
  {
   "cell_type": "code",
   "execution_count": 29,
   "metadata": {},
   "outputs": [
    {
     "data": {
      "text/plain": [
       "array([[0, 1, 5, 1, 0, 0, 1, 1, 2, 0, 0, 0, 1, 0, 1, 0, 1, 0, 0, 1, 1, 0,\n",
       "        0, 0, 0, 0, 0, 1, 1, 1, 1, 1, 0, 0, 1, 0, 0, 1, 2, 1, 1, 0, 1, 1,\n",
       "        1, 1, 0, 0, 1, 0, 0, 0, 1, 1, 1, 0, 0, 1, 2, 1, 0, 0, 0, 0, 0, 1,\n",
       "        0, 1, 0, 0, 1, 0],\n",
       "       [1, 1, 6, 0, 3, 2, 0, 0, 2, 2, 1, 1, 0, 1, 0, 1, 0, 1, 1, 0, 0, 1,\n",
       "        1, 1, 1, 1, 1, 0, 1, 1, 0, 0, 1, 1, 0, 1, 4, 0, 0, 0, 0, 1, 2, 0,\n",
       "        0, 0, 2, 1, 0, 1, 1, 1, 0, 0, 0, 1, 1, 1, 9, 0, 1, 2, 1, 1, 1, 1,\n",
       "        1, 0, 2, 1, 0, 1]], dtype=int64)"
      ]
     },
     "execution_count": 29,
     "metadata": {},
     "output_type": "execute_result"
    }
   ],
   "source": [
    "sents_counts.toarray()"
   ]
  },
  {
   "cell_type": "code",
   "execution_count": 30,
   "metadata": {},
   "outputs": [],
   "source": [
    "# Convert raw frequency counts into TF-IDF (Term Frequency -- Inverse Document Frequency) values\n",
    "from sklearn.feature_extraction.text import TfidfTransformer\n",
    "tfidf_transformer = TfidfTransformer()\n",
    "sents_tfidf = tfidf_transformer.fit_transform(sents_counts)"
   ]
  },
  {
   "cell_type": "code",
   "execution_count": 31,
   "metadata": {},
   "outputs": [
    {
     "data": {
      "text/plain": [
       "array([[0.        , 0.1019111 , 0.50955552, 0.1432325 , 0.        ,\n",
       "        0.        , 0.1432325 , 0.1432325 , 0.20382221, 0.        ,\n",
       "        0.        , 0.        , 0.1432325 , 0.        , 0.1432325 ,\n",
       "        0.        , 0.1432325 , 0.        , 0.        , 0.1432325 ,\n",
       "        0.1432325 , 0.        , 0.        , 0.        , 0.        ,\n",
       "        0.        , 0.        , 0.1432325 , 0.1019111 , 0.1019111 ,\n",
       "        0.1432325 , 0.1432325 , 0.        , 0.        , 0.1432325 ,\n",
       "        0.        , 0.        , 0.1432325 , 0.286465  , 0.1432325 ,\n",
       "        0.1432325 , 0.        , 0.1019111 , 0.1432325 , 0.1432325 ,\n",
       "        0.1432325 , 0.        , 0.        , 0.1432325 , 0.        ,\n",
       "        0.        , 0.        , 0.1432325 , 0.1432325 , 0.1432325 ,\n",
       "        0.        , 0.        , 0.1019111 , 0.20382221, 0.1432325 ,\n",
       "        0.        , 0.        , 0.        , 0.        , 0.        ,\n",
       "        0.1019111 , 0.        , 0.1432325 , 0.        , 0.        ,\n",
       "        0.1432325 , 0.        ],\n",
       "       [0.08427148, 0.05995985, 0.3597591 , 0.        , 0.25281443,\n",
       "        0.16854295, 0.        , 0.        , 0.1199197 , 0.16854295,\n",
       "        0.08427148, 0.08427148, 0.        , 0.08427148, 0.        ,\n",
       "        0.08427148, 0.        , 0.08427148, 0.08427148, 0.        ,\n",
       "        0.        , 0.08427148, 0.08427148, 0.08427148, 0.08427148,\n",
       "        0.08427148, 0.08427148, 0.        , 0.05995985, 0.05995985,\n",
       "        0.        , 0.        , 0.08427148, 0.08427148, 0.        ,\n",
       "        0.08427148, 0.33708591, 0.        , 0.        , 0.        ,\n",
       "        0.        , 0.08427148, 0.1199197 , 0.        , 0.        ,\n",
       "        0.        , 0.16854295, 0.08427148, 0.        , 0.08427148,\n",
       "        0.08427148, 0.08427148, 0.        , 0.        , 0.        ,\n",
       "        0.08427148, 0.08427148, 0.05995985, 0.53963865, 0.        ,\n",
       "        0.08427148, 0.16854295, 0.08427148, 0.08427148, 0.08427148,\n",
       "        0.05995985, 0.08427148, 0.        , 0.16854295, 0.08427148,\n",
       "        0.        , 0.08427148]])"
      ]
     },
     "execution_count": 31,
     "metadata": {},
     "output_type": "execute_result"
    }
   ],
   "source": [
    "# TF-IDF values\n",
    "# raw counts have been normalized against document length, \n",
    "# terms that are found across many docs are weighted down\n",
    "sents_tfidf.toarray()"
   ]
  },
  {
   "cell_type": "code",
   "execution_count": 34,
   "metadata": {},
   "outputs": [
    {
     "name": "stdout",
     "output_type": "stream",
     "text": [
      "With the following ratings, we should be able to perform ML on the matrix above.\n",
      "First sentence's rating is  4.0 .\n",
      "Second sentence's rating is  5.0 .\n"
     ]
    }
   ],
   "source": [
    "print('With the following ratings, we should be able to perform ML on the matrix above.')\n",
    "print(\"First sentence's rating is \", ratings[0], \".\")\n",
    "print(\"Second sentence's rating is \", ratings[1], \".\")"
   ]
  },
  {
   "cell_type": "markdown",
   "metadata": {},
   "source": [
    "Process all 929607 reviews the same way."
   ]
  },
  {
   "cell_type": "code",
   "execution_count": 45,
   "metadata": {},
   "outputs": [],
   "source": [
    "text_array = np.asarray(text)"
   ]
  },
  {
   "cell_type": "code",
   "execution_count": 46,
   "metadata": {},
   "outputs": [
    {
     "data": {
      "text/plain": [
       "(929607,)"
      ]
     },
     "execution_count": 46,
     "metadata": {},
     "output_type": "execute_result"
    }
   ],
   "source": [
    "text.shape"
   ]
  },
  {
   "cell_type": "code",
   "execution_count": 69,
   "metadata": {},
   "outputs": [],
   "source": [
    "# Choose 100k reviews\n",
    "n=100000\n",
    "text_small = text[:100000]   #for the end project, randomize\n",
    "ratings_subset = ratings[:n]"
   ]
  },
  {
   "cell_type": "code",
   "execution_count": 60,
   "metadata": {},
   "outputs": [
    {
     "data": {
      "text/plain": [
       "<class 'pandas.core.series.Series'>"
      ]
     },
     "execution_count": 60,
     "metadata": {},
     "output_type": "execute_result"
    }
   ],
   "source": [
    "type(text_small)"
   ]
  },
  {
   "cell_type": "code",
   "execution_count": 61,
   "metadata": {},
   "outputs": [],
   "source": [
    "text_vec = CountVectorizer(min_df=2, tokenizer=nltk.word_tokenize)         # use all words\n",
    "# test_vec = CountVectorizer(min_df=2, tokenizer=nltk.word_tokenize, max_features = 3000) # use top 3000 words only\n",
    "\n",
    "text_counts = text_vec.fit_transform(text_small.values.astype('U'))"
   ]
  },
  {
   "cell_type": "code",
   "execution_count": 62,
   "metadata": {},
   "outputs": [
    {
     "data": {
      "text/plain": [
       "(100000, 42582)"
      ]
     },
     "execution_count": 62,
     "metadata": {},
     "output_type": "execute_result"
    }
   ],
   "source": [
    "#42582 unique words\n",
    "text_counts.shape"
   ]
  },
  {
   "cell_type": "code",
   "execution_count": 63,
   "metadata": {},
   "outputs": [],
   "source": [
    "# Convert raw frequency counts into TF-IDF values\n",
    "text_tfidf = tfidf_transformer.fit_transform(text_counts)"
   ]
  },
  {
   "cell_type": "code",
   "execution_count": 64,
   "metadata": {},
   "outputs": [
    {
     "data": {
      "text/plain": [
       "<class 'scipy.sparse.csr.csr_matrix'>"
      ]
     },
     "execution_count": 64,
     "metadata": {},
     "output_type": "execute_result"
    }
   ],
   "source": [
    "type(text_tfidf)"
   ]
  },
  {
   "cell_type": "code",
   "execution_count": 65,
   "metadata": {},
   "outputs": [],
   "source": [
    "from scipy import sparse"
   ]
  },
  {
   "cell_type": "code",
   "execution_count": 73,
   "metadata": {},
   "outputs": [],
   "source": [
    "#Save for use in next sections\n",
    "sparse.save_npz('./data/reviews_subset_tfidf.npz', matrix=text_tfidf, compressed=True)"
   ]
  },
  {
   "cell_type": "code",
   "execution_count": 70,
   "metadata": {},
   "outputs": [
    {
     "data": {
      "text/plain": [
       "<class 'pandas.core.series.Series'>"
      ]
     },
     "execution_count": 70,
     "metadata": {},
     "output_type": "execute_result"
    }
   ],
   "source": [
    "#Save ratings\n",
    "type(ratings)"
   ]
  },
  {
   "cell_type": "code",
   "execution_count": 72,
   "metadata": {},
   "outputs": [],
   "source": [
    "import pandas as pd"
   ]
  },
  {
   "cell_type": "code",
   "execution_count": 75,
   "metadata": {},
   "outputs": [],
   "source": [
    "ratings_subset.to_csv(path='./data/ratings_subset.csv')"
   ]
  },
  {
   "cell_type": "code",
   "execution_count": null,
   "metadata": {},
   "outputs": [],
   "source": []
  }
 ],
 "metadata": {
  "kernelspec": {
   "display_name": "Python 3",
   "language": "python",
   "name": "python3"
  },
  "language_info": {
   "codemirror_mode": {
    "name": "ipython",
    "version": 3
   },
   "file_extension": ".py",
   "mimetype": "text/x-python",
   "name": "python",
   "nbconvert_exporter": "python",
   "pygments_lexer": "ipython3",
   "version": "3.6.7"
  }
 },
 "nbformat": 4,
 "nbformat_minor": 2
}
