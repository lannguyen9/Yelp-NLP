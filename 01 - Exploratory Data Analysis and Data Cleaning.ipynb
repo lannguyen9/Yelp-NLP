{
 "cells": [
  {
   "cell_type": "markdown",
   "metadata": {},
   "source": [
    "# EDA and Cleaning\n",
    "The Yelp review set is currently 4.6GB of raw data. Goal is to subset the data to the most rated city in the Yelp dataset and focus on the restaurant reviews."
   ]
  },
  {
   "cell_type": "code",
<<<<<<< HEAD
   "execution_count": 1,
=======
   "execution_count": 3,
>>>>>>> c549aa14a2b1671da0d860471c385b11d10ece10
   "metadata": {},
   "outputs": [],
   "source": [
    "import pandas as pd\n",
    "import numpy as np\n",
    "import matplotlib.pyplot as plt\n",
    "\n",
    "import seaborn as sns "
   ]
  },
  {
   "cell_type": "code",
   "execution_count": 4,
   "metadata": {},
   "outputs": [],
   "source": [
    "business = pd.read_csv('./data/yelp_business.csv')"
   ]
  },
  {
   "cell_type": "code",
   "execution_count": 5,
   "metadata": {
    "scrolled": true
   },
   "outputs": [
    {
     "data": {
      "text/html": [
       "<div>\n",
       "<style scoped>\n",
       "    .dataframe tbody tr th:only-of-type {\n",
       "        vertical-align: middle;\n",
       "    }\n",
       "\n",
       "    .dataframe tbody tr th {\n",
       "        vertical-align: top;\n",
       "    }\n",
       "\n",
       "    .dataframe thead th {\n",
       "        text-align: right;\n",
       "    }\n",
       "</style>\n",
       "<table border=\"1\" class=\"dataframe\">\n",
       "  <thead>\n",
       "    <tr style=\"text-align: right;\">\n",
       "      <th></th>\n",
       "      <th>business_id</th>\n",
       "      <th>name</th>\n",
       "      <th>neighborhood</th>\n",
       "      <th>address</th>\n",
       "      <th>city</th>\n",
       "      <th>state</th>\n",
       "      <th>postal_code</th>\n",
       "      <th>latitude</th>\n",
       "      <th>longitude</th>\n",
       "      <th>stars</th>\n",
       "      <th>review_count</th>\n",
       "      <th>is_open</th>\n",
       "      <th>categories</th>\n",
       "    </tr>\n",
       "  </thead>\n",
       "  <tbody>\n",
       "    <tr>\n",
       "      <th>0</th>\n",
       "      <td>FYWN1wneV18bWNgQjJ2GNg</td>\n",
       "      <td>\"Dental by Design\"</td>\n",
       "      <td>NaN</td>\n",
       "      <td>\"4855 E Warner Rd, Ste B9\"</td>\n",
       "      <td>Ahwatukee</td>\n",
       "      <td>AZ</td>\n",
       "      <td>85044</td>\n",
       "      <td>33.330690</td>\n",
       "      <td>-111.978599</td>\n",
       "      <td>4.0</td>\n",
       "      <td>22</td>\n",
       "      <td>1</td>\n",
       "      <td>Dentists;General Dentistry;Health &amp; Medical;Or...</td>\n",
       "    </tr>\n",
       "    <tr>\n",
       "      <th>1</th>\n",
       "      <td>He-G7vWjzVUysIKrfNbPUQ</td>\n",
       "      <td>\"Stephen Szabo Salon\"</td>\n",
       "      <td>NaN</td>\n",
       "      <td>\"3101 Washington Rd\"</td>\n",
       "      <td>McMurray</td>\n",
       "      <td>PA</td>\n",
       "      <td>15317</td>\n",
       "      <td>40.291685</td>\n",
       "      <td>-80.104900</td>\n",
       "      <td>3.0</td>\n",
       "      <td>11</td>\n",
       "      <td>1</td>\n",
       "      <td>Hair Stylists;Hair Salons;Men's Hair Salons;Bl...</td>\n",
       "    </tr>\n",
       "    <tr>\n",
       "      <th>2</th>\n",
       "      <td>KQPW8lFf1y5BT2MxiSZ3QA</td>\n",
       "      <td>\"Western Motor Vehicle\"</td>\n",
       "      <td>NaN</td>\n",
       "      <td>\"6025 N 27th Ave, Ste 1\"</td>\n",
       "      <td>Phoenix</td>\n",
       "      <td>AZ</td>\n",
       "      <td>85017</td>\n",
       "      <td>33.524903</td>\n",
       "      <td>-112.115310</td>\n",
       "      <td>1.5</td>\n",
       "      <td>18</td>\n",
       "      <td>1</td>\n",
       "      <td>Departments of Motor Vehicles;Public Services ...</td>\n",
       "    </tr>\n",
       "    <tr>\n",
       "      <th>3</th>\n",
       "      <td>8DShNS-LuFqpEWIp0HxijA</td>\n",
       "      <td>\"Sports Authority\"</td>\n",
       "      <td>NaN</td>\n",
       "      <td>\"5000 Arizona Mills Cr, Ste 435\"</td>\n",
       "      <td>Tempe</td>\n",
       "      <td>AZ</td>\n",
       "      <td>85282</td>\n",
       "      <td>33.383147</td>\n",
       "      <td>-111.964725</td>\n",
       "      <td>3.0</td>\n",
       "      <td>9</td>\n",
       "      <td>0</td>\n",
       "      <td>Sporting Goods;Shopping</td>\n",
       "    </tr>\n",
       "    <tr>\n",
       "      <th>4</th>\n",
       "      <td>PfOCPjBrlQAnz__NXj9h_w</td>\n",
       "      <td>\"Brick House Tavern + Tap\"</td>\n",
       "      <td>NaN</td>\n",
       "      <td>\"581 Howe Ave\"</td>\n",
       "      <td>Cuyahoga Falls</td>\n",
       "      <td>OH</td>\n",
       "      <td>44221</td>\n",
       "      <td>41.119535</td>\n",
       "      <td>-81.475690</td>\n",
       "      <td>3.5</td>\n",
       "      <td>116</td>\n",
       "      <td>1</td>\n",
       "      <td>American (New);Nightlife;Bars;Sandwiches;Ameri...</td>\n",
       "    </tr>\n",
       "  </tbody>\n",
       "</table>\n",
       "</div>"
      ],
      "text/plain": [
       "              business_id                        name neighborhood  \\\n",
       "0  FYWN1wneV18bWNgQjJ2GNg          \"Dental by Design\"          NaN   \n",
       "1  He-G7vWjzVUysIKrfNbPUQ       \"Stephen Szabo Salon\"          NaN   \n",
       "2  KQPW8lFf1y5BT2MxiSZ3QA     \"Western Motor Vehicle\"          NaN   \n",
       "3  8DShNS-LuFqpEWIp0HxijA          \"Sports Authority\"          NaN   \n",
       "4  PfOCPjBrlQAnz__NXj9h_w  \"Brick House Tavern + Tap\"          NaN   \n",
       "\n",
       "                            address            city state postal_code  \\\n",
       "0        \"4855 E Warner Rd, Ste B9\"       Ahwatukee    AZ       85044   \n",
       "1              \"3101 Washington Rd\"        McMurray    PA       15317   \n",
       "2          \"6025 N 27th Ave, Ste 1\"         Phoenix    AZ       85017   \n",
       "3  \"5000 Arizona Mills Cr, Ste 435\"           Tempe    AZ       85282   \n",
       "4                    \"581 Howe Ave\"  Cuyahoga Falls    OH       44221   \n",
       "\n",
       "    latitude   longitude  stars  review_count  is_open  \\\n",
       "0  33.330690 -111.978599    4.0            22        1   \n",
       "1  40.291685  -80.104900    3.0            11        1   \n",
       "2  33.524903 -112.115310    1.5            18        1   \n",
       "3  33.383147 -111.964725    3.0             9        0   \n",
       "4  41.119535  -81.475690    3.5           116        1   \n",
       "\n",
       "                                          categories  \n",
       "0  Dentists;General Dentistry;Health & Medical;Or...  \n",
       "1  Hair Stylists;Hair Salons;Men's Hair Salons;Bl...  \n",
       "2  Departments of Motor Vehicles;Public Services ...  \n",
       "3                            Sporting Goods;Shopping  \n",
       "4  American (New);Nightlife;Bars;Sandwiches;Ameri...  "
      ]
     },
     "execution_count": 5,
     "metadata": {},
     "output_type": "execute_result"
    }
   ],
   "source": [
    "business.head()"
   ]
  },
  {
   "cell_type": "code",
   "execution_count": 6,
   "metadata": {},
   "outputs": [
    {
     "data": {
      "text/plain": [
       "(174567, 13)"
      ]
     },
     "execution_count": 6,
     "metadata": {},
     "output_type": "execute_result"
    }
   ],
   "source": [
    "business.shape"
   ]
  },
  {
   "cell_type": "code",
<<<<<<< HEAD
   "execution_count": 5,
=======
   "execution_count": 7,
>>>>>>> c549aa14a2b1671da0d860471c385b11d10ece10
   "metadata": {
    "scrolled": true
   },
   "outputs": [
    {
     "data": {
      "text/plain": [
       "Las Vegas     26775\n",
       "Phoenix       17213\n",
       "Toronto       17206\n",
       "Charlotte      8553\n",
       "Scottsdale     8228\n",
       "Pittsburgh     6355\n",
       "Mesa           5760\n",
       "Montréal       5709\n",
       "Henderson      4465\n",
       "Tempe          4263\n",
       "Name: city, dtype: int64"
      ]
     },
<<<<<<< HEAD
     "execution_count": 5,
=======
     "execution_count": 7,
>>>>>>> c549aa14a2b1671da0d860471c385b11d10ece10
     "metadata": {},
     "output_type": "execute_result"
    }
   ],
   "source": [
    "business['city'].value_counts()[:10]"
   ]
  },
  {
   "cell_type": "code",
<<<<<<< HEAD
   "execution_count": 6,
=======
   "execution_count": 8,
>>>>>>> c549aa14a2b1671da0d860471c385b11d10ece10
   "metadata": {},
   "outputs": [
    {
     "data": {
      "text/plain": [
       "'Las Vegas'"
      ]
     },
<<<<<<< HEAD
     "execution_count": 6,
=======
     "execution_count": 8,
>>>>>>> c549aa14a2b1671da0d860471c385b11d10ece10
     "metadata": {},
     "output_type": "execute_result"
    }
   ],
   "source": [
    "business['city'].value_counts().index[0]"
   ]
  },
  {
   "cell_type": "markdown",
   "metadata": {},
   "source": [
    "Most reviewed city in the set is Las Vegas, NV, USA."
   ]
  },
  {
   "cell_type": "code",
<<<<<<< HEAD
   "execution_count": 7,
=======
   "execution_count": 9,
>>>>>>> c549aa14a2b1671da0d860471c385b11d10ece10
   "metadata": {},
   "outputs": [],
   "source": [
    "business_LV = business[business['city']=='Las Vegas']"
   ]
  },
  {
   "cell_type": "code",
<<<<<<< HEAD
   "execution_count": 8,
=======
   "execution_count": 10,
>>>>>>> c549aa14a2b1671da0d860471c385b11d10ece10
   "metadata": {},
   "outputs": [
    {
     "data": {
      "text/plain": [
<<<<<<< HEAD
       "Mexican;Restaurants                                                                                                                                                                 160\n",
       "Restaurants;Mexican                                                                                                                                                                 133\n",
       "Beauty & Spas;Nail Salons                                                                                                                                                           119\n",
       "Nail Salons;Beauty & Spas                                                                                                                                                           100\n",
       "Pizza;Restaurants                                                                                                                                                                    97\n",
       "Auto Repair;Automotive                                                                                                                                                               95\n",
       "Coffee & Tea;Food                                                                                                                                                                    92\n",
       "Restaurants;Pizza                                                                                                                                                                    92\n",
       "Arts & Entertainment;Performing Arts                                                                                                                                                 90\n",
       "Beauty & Spas;Hair Salons                                                                                                                                                            89\n",
       "Performing Arts;Arts & Entertainment                                                                                                                                                 87\n",
       "Food;Coffee & Tea                                                                                                                                                                    86\n",
       "Automotive;Auto Repair                                                                                                                                                               85\n",
       "Na                                                                                                                                                                                   79\n",
       "Real Estate;Apartments;Home Services                                                                                                                                                 77\n",
       "Banks & Credit Unions;Financial Services                                                                                                                                             76\n",
       "Hair Salons;Beauty & Spas                                                                                                                                                            73\n",
       "Home Services;Apartments;Real Estate                                                                                                                                                 73\n",
       "Financial Services;Banks & Credit Unions                                                                                                                                             71\n",
       "Apartments;Real Estate;Home Services                                                                                                                                                 68\n",
       "Chinese;Restaurants                                                                                                                                                                  66\n",
       "Real Estate;Home Services;Apartments                                                                                                                                                 63\n",
       "Restaurants;Chinese                                                                                                                                                                  61\n",
       "Car Rental;Hotels & Travel                                                                                                                                                           60\n",
       "Home Services;Real Estate;Apartments                                                                                                                                                 56\n",
       "Food;Ice Cream & Frozen Yogurt                                                                                                                                                       55\n",
       "Hotels & Travel;Car Rental                                                                                                                                                           54\n",
       "Beauty & Spas;Barbers                                                                                                                                                                53\n",
       "Chiropractors;Health & Medical                                                                                                                                                       53\n",
       "Automotive;Gas Stations                                                                                                                                                              51\n",
       "                                                                                                                                                                                   ... \n",
       "Investing;Financial Services;Financial Advising;Insurance                                                                                                                             1\n",
       "Lounges;Bars;Active Life;Swimming Pools;Nightlife                                                                                                                                     1\n",
       "Cocktail Bars;Lounges;Bars;Restaurants;Nightlife;Greek                                                                                                                                1\n",
       "Sandwiches;Pizza;Italian;Chicken Wings;Restaurants                                                                                                                                    1\n",
       "Massage;Beauty & Spas;Health & Medical;Massage Therapy                                                                                                                                1\n",
       "Sandwiches;Bakeries;Restaurants;Food;Coffee & Tea                                                                                                                                     1\n",
       "Home Services;Handyman;Drywall Installation & Repair;Painters                                                                                                                         1\n",
       "Auto Insurance;Financial Services;Real Estate;Home & Rental Insurance;Life Insurance;Real Estate Services;Home Services;Insurance                                                     1\n",
       "Nightlife;Bars;Steakhouses;American (New);Cocktail Bars;Restaurants                                                                                                                   1\n",
       "Local Services;Auto Upholstery;Furniture Repair;Auto Repair;Automotive                                                                                                                1\n",
       "Session Photography;Boudoir Photography;Event Planning & Services;Photographers                                                                                                       1\n",
       "Dermatologists;Doctors;Health & Medical                                                                                                                                               1\n",
       "Books;Mags;Music & Video;Comic Books;Toy Stores;Shopping                                                                                                                              1\n",
       "Beauty & Spas;Men's Hair Salons;Hair Salons                                                                                                                                           1\n",
       "Automotive;Local Services;Truck Rental;Self Storage                                                                                                                                   1\n",
       "Event Planning & Services;Arcades;Videos & Video Game Rental;Internet Cafes;Video Game Stores;Arts & Entertainment;Party & Event Planning;Books;Mags;Music & Video;Food;Shopping      1\n",
       "Pizza;Food;Chicken Wings;Desserts;Restaurants                                                                                                                                         1\n",
       "Travel Services;Hotels & Travel;Home Services;Local Services;Luggage Storage;Movers;Self Storage                                                                                      1\n",
       "Men's Clothing;Leather Goods;Fashion;Women's Clothing;Shopping                                                                                                                        1\n",
       "Hair Stylists;Cosmetics & Beauty Supply;Men's Hair Salons;Hair Salons;Barbers;Beauty & Spas;Shopping                                                                                  1\n",
       "Medical Centers;Doctors;Health & Medical;Urgent Care;Family Practice                                                                                                                  1\n",
       "Home Services;Contractors;Pool & Hot Tub Service                                                                                                                                      1\n",
       "Organic Stores;Food;Specialty Food;Meat Shops;Ethnic Food;Candy Stores                                                                                                                1\n",
       "Hotels & Travel;Resorts;Vacation Rentals;Hotels;Event Planning & Services;Party & Event Planning                                                                                      1\n",
       "Coffee & Tea;Acai Bowls;Juice Bars & Smoothies;Food                                                                                                                                   1\n",
       "Drugstores;Health & Medical;Pharmacy;Shopping                                                                                                                                         1\n",
       "Restaurants;Food;Cafes;Coffee & Tea                                                                                                                                                   1\n",
       "Reiki;Yoga;Health & Medical;Active Life;Fitness & Instruction;Meditation Centers                                                                                                      1\n",
       "Pool Cleaners;Landscaping;Shopping;Home Services;Home & Garden;Hot Tub & Pool;Contractors;Pool & Hot Tub Service                                                                      1\n",
       "Home & Garden;Holiday Decorations;Pop-up Shops;Shopping;Discount Store;Home Decor;Furniture Stores;Gift Shops;Flowers & Gifts                                                         1\n",
       "Name: categories, Length: 15573, dtype: int64"
      ]
     },
     "execution_count": 8,
=======
       "Mexican;Restaurants                                                                                                                                                                                                160\n",
       "Restaurants;Mexican                                                                                                                                                                                                133\n",
       "Beauty & Spas;Nail Salons                                                                                                                                                                                          119\n",
       "Nail Salons;Beauty & Spas                                                                                                                                                                                          100\n",
       "Pizza;Restaurants                                                                                                                                                                                                   97\n",
       "Auto Repair;Automotive                                                                                                                                                                                              95\n",
       "Coffee & Tea;Food                                                                                                                                                                                                   92\n",
       "Restaurants;Pizza                                                                                                                                                                                                   92\n",
       "Arts & Entertainment;Performing Arts                                                                                                                                                                                90\n",
       "Beauty & Spas;Hair Salons                                                                                                                                                                                           89\n",
       "Performing Arts;Arts & Entertainment                                                                                                                                                                                87\n",
       "Food;Coffee & Tea                                                                                                                                                                                                   86\n",
       "Automotive;Auto Repair                                                                                                                                                                                              85\n",
       "Na                                                                                                                                                                                                                  79\n",
       "Real Estate;Apartments;Home Services                                                                                                                                                                                77\n",
       "Banks & Credit Unions;Financial Services                                                                                                                                                                            76\n",
       "Home Services;Apartments;Real Estate                                                                                                                                                                                73\n",
       "Hair Salons;Beauty & Spas                                                                                                                                                                                           73\n",
       "Financial Services;Banks & Credit Unions                                                                                                                                                                            71\n",
       "Apartments;Real Estate;Home Services                                                                                                                                                                                68\n",
       "Chinese;Restaurants                                                                                                                                                                                                 66\n",
       "Real Estate;Home Services;Apartments                                                                                                                                                                                63\n",
       "Restaurants;Chinese                                                                                                                                                                                                 61\n",
       "Car Rental;Hotels & Travel                                                                                                                                                                                          60\n",
       "Home Services;Real Estate;Apartments                                                                                                                                                                                56\n",
       "Food;Ice Cream & Frozen Yogurt                                                                                                                                                                                      55\n",
       "Hotels & Travel;Car Rental                                                                                                                                                                                          54\n",
       "Chiropractors;Health & Medical                                                                                                                                                                                      53\n",
       "Beauty & Spas;Barbers                                                                                                                                                                                               53\n",
       "Automotive;Gas Stations                                                                                                                                                                                             51\n",
       "                                                                                                                                                                                                                  ... \n",
       "Italian;Nightlife;Restaurants;Pool Halls                                                                                                                                                                             1\n",
       "Haunted Houses;Arts & Entertainment                                                                                                                                                                                  1\n",
       "Graphic Design;Printing Services;Automotive;Professional Services;Local Services;Vehicle Wraps                                                                                                                       1\n",
       "Local Services;Shredding Services;Notaries;Professional Services;Printing Services                                                                                                                                   1\n",
       "Car Window Tinting;Home Services;Automotive;Home Window Tinting;Auto Glass Services;Vehicle Wraps                                                                                                                    1\n",
       "Bankruptcy Law;Professional Services;Lawyers                                                                                                                                                                         1\n",
       "American (Traditional);Breakfast & Brunch;Restaurants;Burgers                                                                                                                                                        1\n",
       "Shopping;Embroidery & Crochet;Hospitals;Shoe Stores;Fashion;Arts & Crafts;Men's Clothing;Uniforms;Health & Medical;Women's Clothing                                                                                  1\n",
       "Safe Stores;Roadside Assistance;Auto Repair;Shopping;Automotive;Keys & Locksmiths;Home Services                                                                                                                      1\n",
       "Beauty & Spas;Hair Salons;Barbers;Hair Stylists                                                                                                                                                                      1\n",
       "Team Building Activities;Public Relations;Active Life;Event Planning & Services;Professional Services;Career Counseling;Party & Event Planning                                                                       1\n",
       "Restaurants;American (New);Burgers                                                                                                                                                                                   1\n",
       "Lounges;Bars;Music Venues;Arts & Entertainment;Nightlife                                                                                                                                                             1\n",
       "Pawn Shops;Gold Buyers;Watch Repair;Jewelry Repair;Shopping;Jewelry;Local Services                                                                                                                                   1\n",
       "Home Services;Local Services;Movers;Packing Services;Self Storage                                                                                                                                                    1\n",
       "Self Storage;Packing Services;Home Services;Local Services;Movers                                                                                                                                                    1\n",
       "Oral Surgeons;Orthodontists;Health & Medical;General Dentistry;Dentists                                                                                                                                              1\n",
       "Food;Beer;Wine & Spirits;Salad;Restaurants;Pizza;Italian                                                                                                                                                             1\n",
       "IT Services & Computer Repair;Professional Services;Internet Service Providers;Home Services;Local Services                                                                                                          1\n",
       "Shopping;Photography Stores & Services;Home Services;Event Photography;Photographers;Boudoir Photography;Session Photography;Real Estate Photography;Real Estate;Real Estate Services;Event Planning & Services      1\n",
       "Home Services;Flooring;Damage Restoration;Contractors;Plumbing                                                                                                                                                       1\n",
       "Florists;Shopping;Flowers & Gifts;Event Planning & Services;Floral Designers;Wedding Planning                                                                                                                        1\n",
       "Breakfast & Brunch;Restaurants;Buffets                                                                                                                                                                               1\n",
       "Mortgage Brokers;Real Estate;Home Services;Financial Services;Banks & Credit Unions                                                                                                                                  1\n",
       "Garage Door Services;Fences & Gates;Door Sales/Installation;Home Services                                                                                                                                            1\n",
       "Steakhouses;Seafood;Restaurants;American (Traditional)                                                                                                                                                               1\n",
       "Accessories;Flea Markets;Watches;Shopping;Fashion;Piercing;Local Services;Jewelry Repair;Beauty & Spas;Jewelry                                                                                                       1\n",
       "Food;Automotive;Gas Stations;Grocery;Convenience Stores                                                                                                                                                              1\n",
       "Kids Activities;Doctors;Health & Medical;Gyms;Taekwondo;Fitness & Instruction;Martial Arts;Active Life                                                                                                               1\n",
       "Arts & Entertainment;Internet Cafes;Shopping;Video Game Stores;LAN Centers;Books;Mags;Music & Video;Food                                                                                                             1\n",
       "Name: categories, Length: 15573, dtype: int64"
      ]
     },
     "execution_count": 10,
>>>>>>> c549aa14a2b1671da0d860471c385b11d10ece10
     "metadata": {},
     "output_type": "execute_result"
    }
   ],
   "source": [
    "business_LV.categories.value_counts()"
   ]
  },
  {
   "cell_type": "code",
   "execution_count": 12,
   "metadata": {},
   "outputs": [
    {
     "data": {
      "text/plain": [
       "5899"
      ]
     },
     "execution_count": 12,
     "metadata": {},
     "output_type": "execute_result"
    }
   ],
   "source": [
    "restaurants_LV = business_LV[business_LV.categories.str.contains('Restaurants')]\n",
    "len(restaurants_LV)"
   ]
  },
  {
   "cell_type": "markdown",
   "metadata": {},
   "source": [
    "There are 5,899 restaurants. Much smaller dataset than the original 174,567 individual businesses."
   ]
  },
  {
   "cell_type": "code",
   "execution_count": 30,
   "metadata": {
    "scrolled": true
   },
   "outputs": [
    {
     "data": {
      "text/html": [
       "<div>\n",
       "<style scoped>\n",
       "    .dataframe tbody tr th:only-of-type {\n",
       "        vertical-align: middle;\n",
       "    }\n",
       "\n",
       "    .dataframe tbody tr th {\n",
       "        vertical-align: top;\n",
       "    }\n",
       "\n",
       "    .dataframe thead th {\n",
       "        text-align: right;\n",
       "    }\n",
       "</style>\n",
       "<table border=\"1\" class=\"dataframe\">\n",
       "  <thead>\n",
       "    <tr style=\"text-align: right;\">\n",
       "      <th></th>\n",
       "      <th>business_id</th>\n",
       "      <th>name</th>\n",
       "      <th>neighborhood</th>\n",
       "      <th>address</th>\n",
       "      <th>city</th>\n",
       "      <th>state</th>\n",
       "      <th>postal_code</th>\n",
       "      <th>latitude</th>\n",
       "      <th>longitude</th>\n",
       "      <th>stars</th>\n",
       "      <th>review_count</th>\n",
       "      <th>is_open</th>\n",
       "      <th>categories</th>\n",
       "    </tr>\n",
       "  </thead>\n",
       "  <tbody>\n",
       "    <tr>\n",
       "      <th>52</th>\n",
       "      <td>Pd52CjgyEU3Rb8co6QfTPw</td>\n",
       "      <td>\"Flight Deck Bar &amp; Grill\"</td>\n",
       "      <td>Southeast</td>\n",
       "      <td>\"6730 S Las Vegas Blvd\"</td>\n",
       "      <td>Las Vegas</td>\n",
       "      <td>NV</td>\n",
       "      <td>89119</td>\n",
       "      <td>36.066914</td>\n",
       "      <td>-115.170848</td>\n",
       "      <td>4.0</td>\n",
       "      <td>13</td>\n",
       "      <td>1</td>\n",
       "      <td>Nightlife;Bars;Barbeque;Sports Bars;American (...</td>\n",
       "    </tr>\n",
       "    <tr>\n",
       "      <th>53</th>\n",
       "      <td>4srfPk1s8nlm1YusyDUbjg</td>\n",
       "      <td>\"Subway\"</td>\n",
       "      <td>Southeast</td>\n",
       "      <td>\"6889 S Eastern Ave, Ste 101\"</td>\n",
       "      <td>Las Vegas</td>\n",
       "      <td>NV</td>\n",
       "      <td>89119</td>\n",
       "      <td>36.064652</td>\n",
       "      <td>-115.118954</td>\n",
       "      <td>2.5</td>\n",
       "      <td>6</td>\n",
       "      <td>1</td>\n",
       "      <td>Fast Food;Restaurants;Sandwiches</td>\n",
       "    </tr>\n",
       "    <tr>\n",
       "      <th>54</th>\n",
       "      <td>n7V4cD-KqqE3OXk0irJTyA</td>\n",
       "      <td>\"GameWorks\"</td>\n",
       "      <td>Southeast</td>\n",
       "      <td>\"6587 Las Vegas Blvd S, Ste 171\"</td>\n",
       "      <td>Las Vegas</td>\n",
       "      <td>NV</td>\n",
       "      <td>89119</td>\n",
       "      <td>36.068259</td>\n",
       "      <td>-115.178877</td>\n",
       "      <td>3.0</td>\n",
       "      <td>349</td>\n",
       "      <td>1</td>\n",
       "      <td>Arcades;Arts &amp; Entertainment;Gastropubs;Restau...</td>\n",
       "    </tr>\n",
       "    <tr>\n",
       "      <th>91</th>\n",
       "      <td>F0fEKpTk7gAmuSFI0KW1eQ</td>\n",
       "      <td>\"Cafe Mastrioni\"</td>\n",
       "      <td>Spring Valley</td>\n",
       "      <td>\"4250 S Rainbow Blvd, Ste 1007\"</td>\n",
       "      <td>Las Vegas</td>\n",
       "      <td>NV</td>\n",
       "      <td>89103</td>\n",
       "      <td>36.111057</td>\n",
       "      <td>-115.241688</td>\n",
       "      <td>1.5</td>\n",
       "      <td>3</td>\n",
       "      <td>0</td>\n",
       "      <td>Italian;Restaurants</td>\n",
       "    </tr>\n",
       "    <tr>\n",
       "      <th>122</th>\n",
       "      <td>Wpt0sFHcPtV5MO9He7yMKQ</td>\n",
       "      <td>\"McDonald's\"</td>\n",
       "      <td>Eastside</td>\n",
       "      <td>\"3020 E Desert Inn Rd\"</td>\n",
       "      <td>Las Vegas</td>\n",
       "      <td>NV</td>\n",
       "      <td>89121</td>\n",
       "      <td>36.130013</td>\n",
       "      <td>-115.109310</td>\n",
       "      <td>2.0</td>\n",
       "      <td>20</td>\n",
       "      <td>1</td>\n",
       "      <td>Restaurants;Fast Food;Burgers</td>\n",
       "    </tr>\n",
       "  </tbody>\n",
       "</table>\n",
       "</div>"
      ],
      "text/plain": [
       "                business_id                       name   neighborhood  \\\n",
       "52   Pd52CjgyEU3Rb8co6QfTPw  \"Flight Deck Bar & Grill\"      Southeast   \n",
       "53   4srfPk1s8nlm1YusyDUbjg                   \"Subway\"      Southeast   \n",
       "54   n7V4cD-KqqE3OXk0irJTyA                \"GameWorks\"      Southeast   \n",
       "91   F0fEKpTk7gAmuSFI0KW1eQ           \"Cafe Mastrioni\"  Spring Valley   \n",
       "122  Wpt0sFHcPtV5MO9He7yMKQ               \"McDonald's\"       Eastside   \n",
       "\n",
       "                              address       city state postal_code   latitude  \\\n",
       "52            \"6730 S Las Vegas Blvd\"  Las Vegas    NV       89119  36.066914   \n",
       "53      \"6889 S Eastern Ave, Ste 101\"  Las Vegas    NV       89119  36.064652   \n",
       "54   \"6587 Las Vegas Blvd S, Ste 171\"  Las Vegas    NV       89119  36.068259   \n",
       "91    \"4250 S Rainbow Blvd, Ste 1007\"  Las Vegas    NV       89103  36.111057   \n",
       "122            \"3020 E Desert Inn Rd\"  Las Vegas    NV       89121  36.130013   \n",
       "\n",
       "      longitude  stars  review_count  is_open  \\\n",
       "52  -115.170848    4.0            13        1   \n",
       "53  -115.118954    2.5             6        1   \n",
       "54  -115.178877    3.0           349        1   \n",
       "91  -115.241688    1.5             3        0   \n",
       "122 -115.109310    2.0            20        1   \n",
       "\n",
       "                                            categories  \n",
       "52   Nightlife;Bars;Barbeque;Sports Bars;American (...  \n",
       "53                    Fast Food;Restaurants;Sandwiches  \n",
       "54   Arcades;Arts & Entertainment;Gastropubs;Restau...  \n",
       "91                                 Italian;Restaurants  \n",
       "122                      Restaurants;Fast Food;Burgers  "
      ]
     },
     "execution_count": 30,
     "metadata": {},
     "output_type": "execute_result"
    }
   ],
   "source": [
    "restaurants_LV.head()"
   ]
  },
  {
   "cell_type": "code",
   "execution_count": 52,
   "metadata": {},
   "outputs": [
    {
     "name": "stdout",
     "output_type": "stream",
     "text": [
      "There are 2298 unique types/categories of restaurants in Las Vegas!\n"
     ]
    },
    {
     "data": {
      "image/png": "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\n",
      "text/plain": [
       "<Figure size 1152x288 with 1 Axes>"
      ]
     },
     "metadata": {},
     "output_type": "display_data"
    }
   ],
   "source": [
    "# Some EDA from Jagan Upta's Kaggle notebook\n",
    "# https://www.kaggle.com/jagangupta/what-s-in-a-review-yelp-ratings-eda\n",
    "restaurants_cats=' '.join(restaurants_LV['categories'])\n",
    "\n",
    "cats=pd.DataFrame(restaurants_cats.split(';'),columns=['category'])\n",
    "x=cats.category.value_counts()\n",
    "print(\"There are\",len(x),\"unique types/categories of restaurants in Las Vegas!\")\n",
    "#prep for chart\n",
    "x=x.sort_values(ascending=False)\n",
    "x=x.iloc[0:20]\n",
    "\n",
    "#chart\n",
    "plt.figure(figsize=(16,4))\n",
    "ax = sns.barplot(x.index, x.values, alpha=0.8)#,color=color[5])\n",
    "plt.title(\"What are the top categories?\",fontsize=25)\n",
    "locs, labels = plt.xticks()\n",
    "plt.setp(labels, rotation=80)\n",
    "plt.ylabel('# businesses', fontsize=12)\n",
    "plt.xlabel('Category', fontsize=12)\n",
    "\n",
    "#adding the text labels\n",
    "rects = ax.patches\n",
    "labels = x.values\n",
    "for rect, label in zip(rects, labels):\n",
    "    height = rect.get_height()\n",
    "    ax.text(rect.get_x() + rect.get_width()/2, height + 5, label, ha='center', va='bottom')\n",
    "\n",
    "plt.show()"
   ]
  },
  {
   "cell_type": "code",
   "execution_count": 32,
   "metadata": {},
   "outputs": [
    {
     "data": {
      "text/plain": [
       "Restaurants                2222\n",
       "Food                        733\n",
       "Restaurants Restaurants     570\n",
       "Nightlife                   534\n",
       "Bars                        517\n",
       "American (Traditional)      399\n",
       "Fast Food                   372\n",
       "American (New)              329\n",
       "Sandwiches                  311\n",
       "Pizza                       233\n",
       "Name: category, dtype: int64"
      ]
     },
     "execution_count": 32,
     "metadata": {},
     "output_type": "execute_result"
    }
   ],
   "source": [
    "restaurants_cats=' '.join(restaurants_LV['categories'])\n",
    "\n",
    "cats=pd.DataFrame(restaurants_cats.split(';'),columns=['category'])\n",
    "\n",
    "cats.category.value_counts()[:10]"
   ]
  },
  {
   "cell_type": "markdown",
   "metadata": {},
   "source": [
    "The categorical values \"Restaurants\" and \"Restaurants Restaurants\" are a little redundant. This may or may not be included in the final analysis (i.e. categorical K-Nearest Neighbors)."
   ]
  },
  {
   "cell_type": "code",
   "execution_count": 36,
   "metadata": {},
   "outputs": [],
   "source": [
    "reviews = pd.read_csv('../Yelp-NLP-Recommender/data/yelp_review.csv')"
   ]
  },
  {
   "cell_type": "code",
   "execution_count": 37,
   "metadata": {},
   "outputs": [
    {
     "data": {
      "text/plain": [
       "(5261668, 9)"
      ]
     },
     "execution_count": 37,
     "metadata": {},
     "output_type": "execute_result"
    }
   ],
   "source": [
    "reviews.shape"
   ]
  },
  {
   "cell_type": "markdown",
   "metadata": {},
   "source": [
    "There are 5,261,668 reviews total for the dataset. Time to focus on just the Las Vegas restaurant ones."
   ]
  },
  {
   "cell_type": "code",
   "execution_count": 39,
   "metadata": {},
   "outputs": [
    {
     "data": {
      "text/html": [
       "<div>\n",
       "<style scoped>\n",
       "    .dataframe tbody tr th:only-of-type {\n",
       "        vertical-align: middle;\n",
       "    }\n",
       "\n",
       "    .dataframe tbody tr th {\n",
       "        vertical-align: top;\n",
       "    }\n",
       "\n",
       "    .dataframe thead th {\n",
       "        text-align: right;\n",
       "    }\n",
       "</style>\n",
       "<table border=\"1\" class=\"dataframe\">\n",
       "  <thead>\n",
       "    <tr style=\"text-align: right;\">\n",
       "      <th></th>\n",
       "      <th>review_id</th>\n",
       "      <th>user_id</th>\n",
       "      <th>business_id</th>\n",
       "      <th>stars</th>\n",
       "      <th>date</th>\n",
       "      <th>text</th>\n",
       "      <th>useful</th>\n",
       "      <th>funny</th>\n",
       "      <th>cool</th>\n",
       "    </tr>\n",
       "  </thead>\n",
       "  <tbody>\n",
       "    <tr>\n",
       "      <th>0</th>\n",
       "      <td>vkVSCC7xljjrAI4UGfnKEQ</td>\n",
       "      <td>bv2nCi5Qv5vroFiqKGopiw</td>\n",
       "      <td>AEx2SYEUJmTxVVB18LlCwA</td>\n",
       "      <td>5</td>\n",
       "      <td>2016-05-28</td>\n",
       "      <td>Super simple place but amazing nonetheless. It...</td>\n",
       "      <td>0</td>\n",
       "      <td>0</td>\n",
       "      <td>0</td>\n",
       "    </tr>\n",
       "    <tr>\n",
       "      <th>1</th>\n",
       "      <td>n6QzIUObkYshz4dz2QRJTw</td>\n",
       "      <td>bv2nCi5Qv5vroFiqKGopiw</td>\n",
       "      <td>VR6GpWIda3SfvPC-lg9H3w</td>\n",
       "      <td>5</td>\n",
       "      <td>2016-05-28</td>\n",
       "      <td>Small unassuming place that changes their menu...</td>\n",
       "      <td>0</td>\n",
       "      <td>0</td>\n",
       "      <td>0</td>\n",
       "    </tr>\n",
       "    <tr>\n",
       "      <th>2</th>\n",
       "      <td>MV3CcKScW05u5LVfF6ok0g</td>\n",
       "      <td>bv2nCi5Qv5vroFiqKGopiw</td>\n",
       "      <td>CKC0-MOWMqoeWf6s-szl8g</td>\n",
       "      <td>5</td>\n",
       "      <td>2016-05-28</td>\n",
       "      <td>Lester's is located in a beautiful neighborhoo...</td>\n",
       "      <td>0</td>\n",
       "      <td>0</td>\n",
       "      <td>0</td>\n",
       "    </tr>\n",
       "    <tr>\n",
       "      <th>3</th>\n",
       "      <td>IXvOzsEMYtiJI0CARmj77Q</td>\n",
       "      <td>bv2nCi5Qv5vroFiqKGopiw</td>\n",
       "      <td>ACFtxLv8pGrrxMm6EgjreA</td>\n",
       "      <td>4</td>\n",
       "      <td>2016-05-28</td>\n",
       "      <td>Love coming here. Yes the place always needs t...</td>\n",
       "      <td>0</td>\n",
       "      <td>0</td>\n",
       "      <td>0</td>\n",
       "    </tr>\n",
       "    <tr>\n",
       "      <th>4</th>\n",
       "      <td>L_9BTb55X0GDtThi6GlZ6w</td>\n",
       "      <td>bv2nCi5Qv5vroFiqKGopiw</td>\n",
       "      <td>s2I_Ni76bjJNK9yG60iD-Q</td>\n",
       "      <td>4</td>\n",
       "      <td>2016-05-28</td>\n",
       "      <td>Had their chocolate almond croissant and it wa...</td>\n",
       "      <td>0</td>\n",
       "      <td>0</td>\n",
       "      <td>0</td>\n",
       "    </tr>\n",
       "  </tbody>\n",
       "</table>\n",
       "</div>"
      ],
      "text/plain": [
       "                review_id                 user_id             business_id  \\\n",
       "0  vkVSCC7xljjrAI4UGfnKEQ  bv2nCi5Qv5vroFiqKGopiw  AEx2SYEUJmTxVVB18LlCwA   \n",
       "1  n6QzIUObkYshz4dz2QRJTw  bv2nCi5Qv5vroFiqKGopiw  VR6GpWIda3SfvPC-lg9H3w   \n",
       "2  MV3CcKScW05u5LVfF6ok0g  bv2nCi5Qv5vroFiqKGopiw  CKC0-MOWMqoeWf6s-szl8g   \n",
       "3  IXvOzsEMYtiJI0CARmj77Q  bv2nCi5Qv5vroFiqKGopiw  ACFtxLv8pGrrxMm6EgjreA   \n",
       "4  L_9BTb55X0GDtThi6GlZ6w  bv2nCi5Qv5vroFiqKGopiw  s2I_Ni76bjJNK9yG60iD-Q   \n",
       "\n",
       "   stars        date                                               text  \\\n",
       "0      5  2016-05-28  Super simple place but amazing nonetheless. It...   \n",
       "1      5  2016-05-28  Small unassuming place that changes their menu...   \n",
       "2      5  2016-05-28  Lester's is located in a beautiful neighborhoo...   \n",
       "3      4  2016-05-28  Love coming here. Yes the place always needs t...   \n",
       "4      4  2016-05-28  Had their chocolate almond croissant and it wa...   \n",
       "\n",
       "   useful  funny  cool  \n",
       "0       0      0     0  \n",
       "1       0      0     0  \n",
       "2       0      0     0  \n",
       "3       0      0     0  \n",
       "4       0      0     0  "
      ]
     },
     "execution_count": 39,
     "metadata": {},
     "output_type": "execute_result"
    }
   ],
   "source": [
    "reviews.head()"
   ]
  },
  {
   "cell_type": "code",
   "execution_count": 42,
   "metadata": {},
   "outputs": [
    {
     "data": {
      "text/plain": [
       "pandas.core.series.Series"
      ]
     },
     "execution_count": 42,
     "metadata": {},
     "output_type": "execute_result"
    }
   ],
   "source": [
    "type(reviews.business_id)"
   ]
  },
  {
   "cell_type": "code",
   "execution_count": 46,
   "metadata": {},
   "outputs": [
    {
     "data": {
      "text/plain": [
       "pandas.core.series.Series"
      ]
     },
     "execution_count": 46,
     "metadata": {},
     "output_type": "execute_result"
    }
   ],
   "source": [
    "type(restaurants_LV.business_id)"
   ]
  },
  {
   "cell_type": "code",
   "execution_count": 47,
   "metadata": {},
   "outputs": [],
   "source": [
    "reviews_LV = pd.merge(restaurants_LV, reviews, how='left', on=['business_id'])"
   ]
  },
  {
   "cell_type": "code",
   "execution_count": 48,
   "metadata": {},
   "outputs": [
    {
     "data": {
      "text/html": [
       "<div>\n",
       "<style scoped>\n",
       "    .dataframe tbody tr th:only-of-type {\n",
       "        vertical-align: middle;\n",
       "    }\n",
       "\n",
       "    .dataframe tbody tr th {\n",
       "        vertical-align: top;\n",
       "    }\n",
       "\n",
       "    .dataframe thead th {\n",
       "        text-align: right;\n",
       "    }\n",
       "</style>\n",
       "<table border=\"1\" class=\"dataframe\">\n",
       "  <thead>\n",
       "    <tr style=\"text-align: right;\">\n",
       "      <th></th>\n",
       "      <th>business_id</th>\n",
       "      <th>name</th>\n",
       "      <th>neighborhood</th>\n",
       "      <th>address</th>\n",
       "      <th>city</th>\n",
       "      <th>state</th>\n",
       "      <th>postal_code</th>\n",
       "      <th>latitude</th>\n",
       "      <th>longitude</th>\n",
       "      <th>stars_x</th>\n",
       "      <th>...</th>\n",
       "      <th>is_open</th>\n",
       "      <th>categories</th>\n",
       "      <th>review_id</th>\n",
       "      <th>user_id</th>\n",
       "      <th>stars_y</th>\n",
       "      <th>date</th>\n",
       "      <th>text</th>\n",
       "      <th>useful</th>\n",
       "      <th>funny</th>\n",
       "      <th>cool</th>\n",
       "    </tr>\n",
       "  </thead>\n",
       "  <tbody>\n",
       "    <tr>\n",
       "      <th>0</th>\n",
       "      <td>Pd52CjgyEU3Rb8co6QfTPw</td>\n",
       "      <td>\"Flight Deck Bar &amp; Grill\"</td>\n",
       "      <td>Southeast</td>\n",
       "      <td>\"6730 S Las Vegas Blvd\"</td>\n",
       "      <td>Las Vegas</td>\n",
       "      <td>NV</td>\n",
       "      <td>89119</td>\n",
       "      <td>36.066914</td>\n",
       "      <td>-115.170848</td>\n",
       "      <td>4.0</td>\n",
       "      <td>...</td>\n",
       "      <td>1</td>\n",
       "      <td>Nightlife;Bars;Barbeque;Sports Bars;American (...</td>\n",
       "      <td>aG4aEOW86hut943oqL_DOg</td>\n",
       "      <td>9kV4tmBcE-l5tJqzgKjZRA</td>\n",
       "      <td>4</td>\n",
       "      <td>2017-03-27</td>\n",
       "      <td>Nice, open bar with great views of the strip a...</td>\n",
       "      <td>0</td>\n",
       "      <td>0</td>\n",
       "      <td>1</td>\n",
       "    </tr>\n",
       "    <tr>\n",
       "      <th>1</th>\n",
       "      <td>Pd52CjgyEU3Rb8co6QfTPw</td>\n",
       "      <td>\"Flight Deck Bar &amp; Grill\"</td>\n",
       "      <td>Southeast</td>\n",
       "      <td>\"6730 S Las Vegas Blvd\"</td>\n",
       "      <td>Las Vegas</td>\n",
       "      <td>NV</td>\n",
       "      <td>89119</td>\n",
       "      <td>36.066914</td>\n",
       "      <td>-115.170848</td>\n",
       "      <td>4.0</td>\n",
       "      <td>...</td>\n",
       "      <td>1</td>\n",
       "      <td>Nightlife;Bars;Barbeque;Sports Bars;American (...</td>\n",
       "      <td>fQpivmd02GA4eZJRZGgDQQ</td>\n",
       "      <td>i7Z7iiDSbWq-npAYHQUeew</td>\n",
       "      <td>5</td>\n",
       "      <td>2016-08-27</td>\n",
       "      <td>We usually stop here after using the driving r...</td>\n",
       "      <td>0</td>\n",
       "      <td>0</td>\n",
       "      <td>0</td>\n",
       "    </tr>\n",
       "    <tr>\n",
       "      <th>2</th>\n",
       "      <td>Pd52CjgyEU3Rb8co6QfTPw</td>\n",
       "      <td>\"Flight Deck Bar &amp; Grill\"</td>\n",
       "      <td>Southeast</td>\n",
       "      <td>\"6730 S Las Vegas Blvd\"</td>\n",
       "      <td>Las Vegas</td>\n",
       "      <td>NV</td>\n",
       "      <td>89119</td>\n",
       "      <td>36.066914</td>\n",
       "      <td>-115.170848</td>\n",
       "      <td>4.0</td>\n",
       "      <td>...</td>\n",
       "      <td>1</td>\n",
       "      <td>Nightlife;Bars;Barbeque;Sports Bars;American (...</td>\n",
       "      <td>3recIhisA9vC4wnQOMCj7g</td>\n",
       "      <td>7Iga45IMB_VKyPZnbhSE2w</td>\n",
       "      <td>1</td>\n",
       "      <td>2016-01-09</td>\n",
       "      <td>The first time we ate here everything was good...</td>\n",
       "      <td>1</td>\n",
       "      <td>1</td>\n",
       "      <td>0</td>\n",
       "    </tr>\n",
       "    <tr>\n",
       "      <th>3</th>\n",
       "      <td>Pd52CjgyEU3Rb8co6QfTPw</td>\n",
       "      <td>\"Flight Deck Bar &amp; Grill\"</td>\n",
       "      <td>Southeast</td>\n",
       "      <td>\"6730 S Las Vegas Blvd\"</td>\n",
       "      <td>Las Vegas</td>\n",
       "      <td>NV</td>\n",
       "      <td>89119</td>\n",
       "      <td>36.066914</td>\n",
       "      <td>-115.170848</td>\n",
       "      <td>4.0</td>\n",
       "      <td>...</td>\n",
       "      <td>1</td>\n",
       "      <td>Nightlife;Bars;Barbeque;Sports Bars;American (...</td>\n",
       "      <td>18i3YtCuEGMxYSS7fQdR8Q</td>\n",
       "      <td>IvBzaJeCcuChLuKGq3xhxA</td>\n",
       "      <td>2</td>\n",
       "      <td>2016-08-22</td>\n",
       "      <td>So I took my daughter there for breakfast and ...</td>\n",
       "      <td>1</td>\n",
       "      <td>0</td>\n",
       "      <td>0</td>\n",
       "    </tr>\n",
       "    <tr>\n",
       "      <th>4</th>\n",
       "      <td>Pd52CjgyEU3Rb8co6QfTPw</td>\n",
       "      <td>\"Flight Deck Bar &amp; Grill\"</td>\n",
       "      <td>Southeast</td>\n",
       "      <td>\"6730 S Las Vegas Blvd\"</td>\n",
       "      <td>Las Vegas</td>\n",
       "      <td>NV</td>\n",
       "      <td>89119</td>\n",
       "      <td>36.066914</td>\n",
       "      <td>-115.170848</td>\n",
       "      <td>4.0</td>\n",
       "      <td>...</td>\n",
       "      <td>1</td>\n",
       "      <td>Nightlife;Bars;Barbeque;Sports Bars;American (...</td>\n",
       "      <td>brbrSd8nHkAEoN56ADEl9A</td>\n",
       "      <td>nIV1-sMoRFrnEtO1TUfLZQ</td>\n",
       "      <td>1</td>\n",
       "      <td>2015-10-28</td>\n",
       "      <td>This restaurant has a new name it used to be c...</td>\n",
       "      <td>1</td>\n",
       "      <td>0</td>\n",
       "      <td>0</td>\n",
       "    </tr>\n",
       "  </tbody>\n",
       "</table>\n",
       "<p>5 rows × 21 columns</p>\n",
       "</div>"
      ],
      "text/plain": [
       "              business_id                       name neighborhood  \\\n",
       "0  Pd52CjgyEU3Rb8co6QfTPw  \"Flight Deck Bar & Grill\"    Southeast   \n",
       "1  Pd52CjgyEU3Rb8co6QfTPw  \"Flight Deck Bar & Grill\"    Southeast   \n",
       "2  Pd52CjgyEU3Rb8co6QfTPw  \"Flight Deck Bar & Grill\"    Southeast   \n",
       "3  Pd52CjgyEU3Rb8co6QfTPw  \"Flight Deck Bar & Grill\"    Southeast   \n",
       "4  Pd52CjgyEU3Rb8co6QfTPw  \"Flight Deck Bar & Grill\"    Southeast   \n",
       "\n",
       "                   address       city state postal_code   latitude  \\\n",
       "0  \"6730 S Las Vegas Blvd\"  Las Vegas    NV       89119  36.066914   \n",
       "1  \"6730 S Las Vegas Blvd\"  Las Vegas    NV       89119  36.066914   \n",
       "2  \"6730 S Las Vegas Blvd\"  Las Vegas    NV       89119  36.066914   \n",
       "3  \"6730 S Las Vegas Blvd\"  Las Vegas    NV       89119  36.066914   \n",
       "4  \"6730 S Las Vegas Blvd\"  Las Vegas    NV       89119  36.066914   \n",
       "\n",
       "    longitude  stars_x  ...   is_open  \\\n",
       "0 -115.170848      4.0  ...         1   \n",
       "1 -115.170848      4.0  ...         1   \n",
       "2 -115.170848      4.0  ...         1   \n",
       "3 -115.170848      4.0  ...         1   \n",
       "4 -115.170848      4.0  ...         1   \n",
       "\n",
       "                                          categories               review_id  \\\n",
       "0  Nightlife;Bars;Barbeque;Sports Bars;American (...  aG4aEOW86hut943oqL_DOg   \n",
       "1  Nightlife;Bars;Barbeque;Sports Bars;American (...  fQpivmd02GA4eZJRZGgDQQ   \n",
       "2  Nightlife;Bars;Barbeque;Sports Bars;American (...  3recIhisA9vC4wnQOMCj7g   \n",
       "3  Nightlife;Bars;Barbeque;Sports Bars;American (...  18i3YtCuEGMxYSS7fQdR8Q   \n",
       "4  Nightlife;Bars;Barbeque;Sports Bars;American (...  brbrSd8nHkAEoN56ADEl9A   \n",
       "\n",
       "                  user_id stars_y        date  \\\n",
       "0  9kV4tmBcE-l5tJqzgKjZRA       4  2017-03-27   \n",
       "1  i7Z7iiDSbWq-npAYHQUeew       5  2016-08-27   \n",
       "2  7Iga45IMB_VKyPZnbhSE2w       1  2016-01-09   \n",
       "3  IvBzaJeCcuChLuKGq3xhxA       2  2016-08-22   \n",
       "4  nIV1-sMoRFrnEtO1TUfLZQ       1  2015-10-28   \n",
       "\n",
       "                                                text useful  funny  cool  \n",
       "0  Nice, open bar with great views of the strip a...      0      0     1  \n",
       "1  We usually stop here after using the driving r...      0      0     0  \n",
       "2  The first time we ate here everything was good...      1      1     0  \n",
       "3  So I took my daughter there for breakfast and ...      1      0     0  \n",
       "4  This restaurant has a new name it used to be c...      1      0     0  \n",
       "\n",
       "[5 rows x 21 columns]"
      ]
     },
     "execution_count": 48,
     "metadata": {},
     "output_type": "execute_result"
    }
   ],
   "source": [
    "reviews_LV.head()"
   ]
  },
  {
   "cell_type": "code",
   "execution_count": 49,
   "metadata": {
    "scrolled": true
   },
   "outputs": [
    {
     "data": {
      "text/plain": [
       "(929606, 21)"
      ]
     },
     "execution_count": 49,
     "metadata": {},
     "output_type": "execute_result"
    }
   ],
   "source": [
    "reviews_LV.shape"
   ]
  },
  {
   "cell_type": "markdown",
   "metadata": {},
   "source": [
    "There are 929,606 restaurant reviews in Las Vegas."
   ]
  },
  {
   "cell_type": "code",
   "execution_count": 53,
   "metadata": {},
   "outputs": [],
   "source": [
    "reviews_LV.to_csv('../Yelp-NLP-Recommender/data/restaurant_reviews_las_vegas.csv', index=False)"
   ]
  },
  {
   "cell_type": "markdown",
   "metadata": {},
   "source": [
    "Finally, define a function for future reproduction. Move to a python script."
   ]
  },
  {
   "cell_type": "code",
   "execution_count": 63,
   "metadata": {},
   "outputs": [],
   "source": [
    "def yelp_data_reduction(business,reviews):\n",
    "    '''\n",
    "    Create a dataset containing the largest city's 'Yelp!' restaurant reviews.\n",
    "    \n",
    "    Inputs:\n",
    "        businesses - loaded from yelp_business.csv\n",
    "        reviews - loaded from yelp_review.csv\n",
    "        \n",
    "    Outputs:\n",
    "        \n",
    "    '''\n",
    "    most_business_city = business['city'].value_counts().index[0]\n",
    "    business_LV = business[business['city']==most_business_city]\n",
    "    restaurants_LV = business_LV[business_LV.categories.str.contains('Restaurants')]\n",
    "    \n",
    "    reviews_LV = pd.merge(restaurants_LV, reviews, how='left', on=['business_id'])\n",
    "    \n",
    "    reviews_LV.to_csv('../restaurant_reviews_top_city.csv', index=False)\n",
    "    \n",
    "    return reviews_LV"
   ]
  },
  {
   "cell_type": "markdown",
   "metadata": {},
   "source": [
    "Future goals are to add more visualizations and clean up the code."
   ]
  },
  {
   "cell_type": "code",
   "execution_count": null,
   "metadata": {},
   "outputs": [],
   "source": []
  }
 ],
 "metadata": {
  "kernelspec": {
   "display_name": "Python 3",
   "language": "python",
   "name": "python3"
  },
  "language_info": {
   "codemirror_mode": {
    "name": "ipython",
    "version": 3
   },
   "file_extension": ".py",
   "mimetype": "text/x-python",
   "name": "python",
   "nbconvert_exporter": "python",
   "pygments_lexer": "ipython3",
   "version": "3.6.7"
  }
 },
 "nbformat": 4,
 "nbformat_minor": 2
}
