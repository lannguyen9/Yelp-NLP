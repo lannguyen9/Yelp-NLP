{
 "cells": [
  {
   "cell_type": "markdown",
   "metadata": {},
   "source": [
    "# DataViz on the LV database"
   ]
  },
  {
   "cell_type": "code",
   "execution_count": 1,
   "metadata": {},
   "outputs": [],
   "source": [
    "import numpy as np\n",
    "import pandas as pd\n",
    "import matplotlib.pyplot as plt\n"
   ]
  },
  {
   "cell_type": "code",
   "execution_count": 2,
   "metadata": {},
   "outputs": [],
   "source": [
    "#data import\n",
    "lv_data = pd.read_csv('../Yelp-NLP-Recommender/data/restaurant_reviews_las_vegas.csv')"
   ]
  },
  {
   "cell_type": "code",
   "execution_count": 3,
   "metadata": {},
   "outputs": [
    {
     "data": {
      "text/html": [
       "<div>\n",
       "<style scoped>\n",
       "    .dataframe tbody tr th:only-of-type {\n",
       "        vertical-align: middle;\n",
       "    }\n",
       "\n",
       "    .dataframe tbody tr th {\n",
       "        vertical-align: top;\n",
       "    }\n",
       "\n",
       "    .dataframe thead th {\n",
       "        text-align: right;\n",
       "    }\n",
       "</style>\n",
       "<table border=\"1\" class=\"dataframe\">\n",
       "  <thead>\n",
       "    <tr style=\"text-align: right;\">\n",
       "      <th></th>\n",
       "      <th>business_id</th>\n",
       "      <th>name</th>\n",
       "      <th>neighborhood</th>\n",
       "      <th>address</th>\n",
       "      <th>city</th>\n",
       "      <th>state</th>\n",
       "      <th>postal_code</th>\n",
       "      <th>latitude</th>\n",
       "      <th>longitude</th>\n",
       "      <th>stars_x</th>\n",
       "      <th>...</th>\n",
       "      <th>is_open</th>\n",
       "      <th>categories</th>\n",
       "      <th>review_id</th>\n",
       "      <th>user_id</th>\n",
       "      <th>stars_y</th>\n",
       "      <th>date</th>\n",
       "      <th>text</th>\n",
       "      <th>useful</th>\n",
       "      <th>funny</th>\n",
       "      <th>cool</th>\n",
       "    </tr>\n",
       "  </thead>\n",
       "  <tbody>\n",
       "    <tr>\n",
       "      <th>0</th>\n",
       "      <td>Pd52CjgyEU3Rb8co6QfTPw</td>\n",
       "      <td>\"Flight Deck Bar &amp; Grill\"</td>\n",
       "      <td>Southeast</td>\n",
       "      <td>\"6730 S Las Vegas Blvd\"</td>\n",
       "      <td>Las Vegas</td>\n",
       "      <td>NV</td>\n",
       "      <td>89119.0</td>\n",
       "      <td>36.066914</td>\n",
       "      <td>-115.170848</td>\n",
       "      <td>4.0</td>\n",
       "      <td>...</td>\n",
       "      <td>1.0</td>\n",
       "      <td>Nightlife;Bars;Barbeque;Sports Bars;American (...</td>\n",
       "      <td>aG4aEOW86hut943oqL_DOg</td>\n",
       "      <td>9kV4tmBcE-l5tJqzgKjZRA</td>\n",
       "      <td>4.0</td>\n",
       "      <td>2017-03-27</td>\n",
       "      <td>Nice, open bar with great views of the strip a...</td>\n",
       "      <td>0.0</td>\n",
       "      <td>0.0</td>\n",
       "      <td>1.0</td>\n",
       "    </tr>\n",
       "    <tr>\n",
       "      <th>1</th>\n",
       "      <td>Pd52CjgyEU3Rb8co6QfTPw</td>\n",
       "      <td>\"Flight Deck Bar &amp; Grill\"</td>\n",
       "      <td>Southeast</td>\n",
       "      <td>\"6730 S Las Vegas Blvd\"</td>\n",
       "      <td>Las Vegas</td>\n",
       "      <td>NV</td>\n",
       "      <td>89119.0</td>\n",
       "      <td>36.066914</td>\n",
       "      <td>-115.170848</td>\n",
       "      <td>4.0</td>\n",
       "      <td>...</td>\n",
       "      <td>1.0</td>\n",
       "      <td>Nightlife;Bars;Barbeque;Sports Bars;American (...</td>\n",
       "      <td>fQpivmd02GA4eZJRZGgDQQ</td>\n",
       "      <td>i7Z7iiDSbWq-npAYHQUeew</td>\n",
       "      <td>5.0</td>\n",
       "      <td>2016-08-27</td>\n",
       "      <td>We usually stop here after using the driving r...</td>\n",
       "      <td>0.0</td>\n",
       "      <td>0.0</td>\n",
       "      <td>0.0</td>\n",
       "    </tr>\n",
       "    <tr>\n",
       "      <th>2</th>\n",
       "      <td>Pd52CjgyEU3Rb8co6QfTPw</td>\n",
       "      <td>\"Flight Deck Bar &amp; Grill\"</td>\n",
       "      <td>Southeast</td>\n",
       "      <td>\"6730 S Las Vegas Blvd\"</td>\n",
       "      <td>Las Vegas</td>\n",
       "      <td>NV</td>\n",
       "      <td>89119.0</td>\n",
       "      <td>36.066914</td>\n",
       "      <td>-115.170848</td>\n",
       "      <td>4.0</td>\n",
       "      <td>...</td>\n",
       "      <td>1.0</td>\n",
       "      <td>Nightlife;Bars;Barbeque;Sports Bars;American (...</td>\n",
       "      <td>3recIhisA9vC4wnQOMCj7g</td>\n",
       "      <td>7Iga45IMB_VKyPZnbhSE2w</td>\n",
       "      <td>1.0</td>\n",
       "      <td>2016-01-09</td>\n",
       "      <td>The first time we ate here everything was good...</td>\n",
       "      <td>1.0</td>\n",
       "      <td>1.0</td>\n",
       "      <td>0.0</td>\n",
       "    </tr>\n",
       "    <tr>\n",
       "      <th>3</th>\n",
       "      <td>Pd52CjgyEU3Rb8co6QfTPw</td>\n",
       "      <td>\"Flight Deck Bar &amp; Grill\"</td>\n",
       "      <td>Southeast</td>\n",
       "      <td>\"6730 S Las Vegas Blvd\"</td>\n",
       "      <td>Las Vegas</td>\n",
       "      <td>NV</td>\n",
       "      <td>89119.0</td>\n",
       "      <td>36.066914</td>\n",
       "      <td>-115.170848</td>\n",
       "      <td>4.0</td>\n",
       "      <td>...</td>\n",
       "      <td>1.0</td>\n",
       "      <td>Nightlife;Bars;Barbeque;Sports Bars;American (...</td>\n",
       "      <td>18i3YtCuEGMxYSS7fQdR8Q</td>\n",
       "      <td>IvBzaJeCcuChLuKGq3xhxA</td>\n",
       "      <td>2.0</td>\n",
       "      <td>2016-08-22</td>\n",
       "      <td>So I took my daughter there for breakfast and ...</td>\n",
       "      <td>1.0</td>\n",
       "      <td>0.0</td>\n",
       "      <td>0.0</td>\n",
       "    </tr>\n",
       "    <tr>\n",
       "      <th>4</th>\n",
       "      <td>Pd52CjgyEU3Rb8co6QfTPw</td>\n",
       "      <td>\"Flight Deck Bar &amp; Grill\"</td>\n",
       "      <td>Southeast</td>\n",
       "      <td>\"6730 S Las Vegas Blvd\"</td>\n",
       "      <td>Las Vegas</td>\n",
       "      <td>NV</td>\n",
       "      <td>89119.0</td>\n",
       "      <td>36.066914</td>\n",
       "      <td>-115.170848</td>\n",
       "      <td>4.0</td>\n",
       "      <td>...</td>\n",
       "      <td>1.0</td>\n",
       "      <td>Nightlife;Bars;Barbeque;Sports Bars;American (...</td>\n",
       "      <td>brbrSd8nHkAEoN56ADEl9A</td>\n",
       "      <td>nIV1-sMoRFrnEtO1TUfLZQ</td>\n",
       "      <td>1.0</td>\n",
       "      <td>2015-10-28</td>\n",
       "      <td>This restaurant has a new name it used to be c...</td>\n",
       "      <td>1.0</td>\n",
       "      <td>0.0</td>\n",
       "      <td>0.0</td>\n",
       "    </tr>\n",
       "  </tbody>\n",
       "</table>\n",
       "<p>5 rows × 21 columns</p>\n",
       "</div>"
      ],
      "text/plain": [
       "              business_id                       name neighborhood  \\\n",
       "0  Pd52CjgyEU3Rb8co6QfTPw  \"Flight Deck Bar & Grill\"    Southeast   \n",
       "1  Pd52CjgyEU3Rb8co6QfTPw  \"Flight Deck Bar & Grill\"    Southeast   \n",
       "2  Pd52CjgyEU3Rb8co6QfTPw  \"Flight Deck Bar & Grill\"    Southeast   \n",
       "3  Pd52CjgyEU3Rb8co6QfTPw  \"Flight Deck Bar & Grill\"    Southeast   \n",
       "4  Pd52CjgyEU3Rb8co6QfTPw  \"Flight Deck Bar & Grill\"    Southeast   \n",
       "\n",
       "                   address       city state  postal_code   latitude  \\\n",
       "0  \"6730 S Las Vegas Blvd\"  Las Vegas    NV      89119.0  36.066914   \n",
       "1  \"6730 S Las Vegas Blvd\"  Las Vegas    NV      89119.0  36.066914   \n",
       "2  \"6730 S Las Vegas Blvd\"  Las Vegas    NV      89119.0  36.066914   \n",
       "3  \"6730 S Las Vegas Blvd\"  Las Vegas    NV      89119.0  36.066914   \n",
       "4  \"6730 S Las Vegas Blvd\"  Las Vegas    NV      89119.0  36.066914   \n",
       "\n",
       "    longitude  stars_x  ...   is_open  \\\n",
       "0 -115.170848      4.0  ...       1.0   \n",
       "1 -115.170848      4.0  ...       1.0   \n",
       "2 -115.170848      4.0  ...       1.0   \n",
       "3 -115.170848      4.0  ...       1.0   \n",
       "4 -115.170848      4.0  ...       1.0   \n",
       "\n",
       "                                          categories               review_id  \\\n",
       "0  Nightlife;Bars;Barbeque;Sports Bars;American (...  aG4aEOW86hut943oqL_DOg   \n",
       "1  Nightlife;Bars;Barbeque;Sports Bars;American (...  fQpivmd02GA4eZJRZGgDQQ   \n",
       "2  Nightlife;Bars;Barbeque;Sports Bars;American (...  3recIhisA9vC4wnQOMCj7g   \n",
       "3  Nightlife;Bars;Barbeque;Sports Bars;American (...  18i3YtCuEGMxYSS7fQdR8Q   \n",
       "4  Nightlife;Bars;Barbeque;Sports Bars;American (...  brbrSd8nHkAEoN56ADEl9A   \n",
       "\n",
       "                  user_id stars_y        date  \\\n",
       "0  9kV4tmBcE-l5tJqzgKjZRA     4.0  2017-03-27   \n",
       "1  i7Z7iiDSbWq-npAYHQUeew     5.0  2016-08-27   \n",
       "2  7Iga45IMB_VKyPZnbhSE2w     1.0  2016-01-09   \n",
       "3  IvBzaJeCcuChLuKGq3xhxA     2.0  2016-08-22   \n",
       "4  nIV1-sMoRFrnEtO1TUfLZQ     1.0  2015-10-28   \n",
       "\n",
       "                                                text useful  funny  cool  \n",
       "0  Nice, open bar with great views of the strip a...    0.0    0.0   1.0  \n",
       "1  We usually stop here after using the driving r...    0.0    0.0   0.0  \n",
       "2  The first time we ate here everything was good...    1.0    1.0   0.0  \n",
       "3  So I took my daughter there for breakfast and ...    1.0    0.0   0.0  \n",
       "4  This restaurant has a new name it used to be c...    1.0    0.0   0.0  \n",
       "\n",
       "[5 rows x 21 columns]"
      ]
     },
     "execution_count": 3,
     "metadata": {},
     "output_type": "execute_result"
    }
   ],
   "source": [
    "lv_data.head()"
   ]
  },
  {
   "cell_type": "code",
   "execution_count": 27,
   "metadata": {},
   "outputs": [
    {
     "data": {
      "text/plain": [
       "194765"
      ]
     },
     "execution_count": 27,
     "metadata": {},
     "output_type": "execute_result"
    }
   ],
   "source": [
    "#Random single\n",
    "r = np.random.choice(range(len(lv_data)), size=1)[0]\n",
    "r"
   ]
  },
  {
   "cell_type": "code",
   "execution_count": 28,
   "metadata": {},
   "outputs": [],
   "source": [
    "rand = r"
   ]
  },
  {
   "cell_type": "code",
   "execution_count": 29,
   "metadata": {},
   "outputs": [
    {
     "name": "stdout",
     "output_type": "stream",
     "text": [
      "They Do accept Credit Cards and Debit!!\r\n",
      "Would be 5 stars but $$$. 6\\/main item ie burrito, quesadilla, each dish etc.\n",
      "Rating:  4.0\n"
     ]
    }
   ],
   "source": [
    "# One of the reviews\n",
    "print(lv_data['text'][rand])\n",
    "print(\"Rating: \",lv_data['stars_y'][rand])"
   ]
  },
  {
   "cell_type": "markdown",
   "metadata": {},
   "source": [
    "Use this review/rating combo for the powerpoint."
   ]
  },
  {
   "cell_type": "markdown",
   "metadata": {},
   "source": [
    "And these histograms..."
   ]
  },
  {
   "cell_type": "code",
   "execution_count": 30,
   "metadata": {},
   "outputs": [
    {
     "data": {
      "text/plain": [
       "array([ 1.,  2.,  3.,  4.,  5., nan])"
      ]
     },
     "execution_count": 30,
     "metadata": {},
     "output_type": "execute_result"
    }
   ],
   "source": [
    "np.unique(lv_data['stars_y'])"
   ]
  },
  {
   "cell_type": "code",
   "execution_count": null,
   "metadata": {},
   "outputs": [],
   "source": [
    "rat_subset = "
   ]
  }
 ],
 "metadata": {
  "kernelspec": {
   "display_name": "Python 3",
   "language": "python",
   "name": "python3"
  },
  "language_info": {
   "codemirror_mode": {
    "name": "ipython",
    "version": 3
   },
   "file_extension": ".py",
   "mimetype": "text/x-python",
   "name": "python",
   "nbconvert_exporter": "python",
   "pygments_lexer": "ipython3",
   "version": "3.6.5"
  }
 },
 "nbformat": 4,
 "nbformat_minor": 2
}
