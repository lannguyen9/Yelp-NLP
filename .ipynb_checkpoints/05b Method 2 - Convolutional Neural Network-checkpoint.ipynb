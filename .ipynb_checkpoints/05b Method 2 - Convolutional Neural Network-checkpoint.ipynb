{
 "cells": [
  {
   "cell_type": "markdown",
   "metadata": {},
   "source": [
    "# Transfer learning using pre-trained CNN on IMDB database"
   ]
  },
  {
   "cell_type": "code",
   "execution_count": 1,
   "metadata": {},
   "outputs": [
    {
     "name": "stderr",
     "output_type": "stream",
     "text": [
      "Using TensorFlow backend.\n"
     ]
    }
   ],
   "source": [
    "import numpy as np\n",
    "import tensorflow\n",
    "from keras.utils import to_categorical\n",
    "from keras.models import Sequential\n",
    "from keras.layers import Dense\n",
    "from keras.layers import LSTM, Conv1D, Flatten, Dropout, MaxPooling1D\n",
    "from keras.layers.embeddings import Embedding\n",
    "from keras.preprocessing import sequence\n",
    "from keras.callbacks import TensorBoard\n",
    "\n",
    "import h5py #I/O for .h5 files\n",
    "import time\n",
    "\n",
    "import matplotlib.pyplot as plt #Visualisations\n",
    "import pandas as pd #I/O\n",
    "from scipy import sparse #I/O for .npz files (Scipy Sparse Matrices)\n",
    "import itertools\n",
    "\n",
    "from sklearn.model_selection import train_test_split"
   ]
  },
  {
   "cell_type": "markdown",
   "metadata": {},
   "source": [
    "### Data Load"
   ]
  },
  {
   "cell_type": "code",
   "execution_count": 2,
   "metadata": {},
   "outputs": [],
   "source": [
    "#Import the Processed Dataset and ratings\n",
    "\n",
    "h5file = h5py.File('./data/reviews_10k.h5', 'r')\n",
    "X = h5file['reviews_svd'][:] #forgot to change the \"svd\" to \"10k\"\n",
    "h5file.close()\n",
    "\n",
    "ratings_subset = pd.read_csv('./data/ratings_10k.csv', header=None)\n"
   ]
  },
  {
   "cell_type": "code",
   "execution_count": 3,
   "metadata": {},
   "outputs": [],
   "source": [
    "#Formatting\n",
    "y = np.asarray(ratings_subset)[:, 1]"
   ]
  },
  {
   "cell_type": "code",
   "execution_count": 4,
   "metadata": {},
   "outputs": [],
   "source": [
    "# Training 80%, Testing 20%\n",
    "X_train, X_test, y_train, y_test= train_test_split(X, y, test_size=0.2, random_state=42)"
   ]
  },
  {
   "cell_type": "code",
   "execution_count": 5,
   "metadata": {},
   "outputs": [],
   "source": [
    "#One-Hot vectors. Subtract 1 because index starts at zero but our categories are [1,2,3,4,5].\n",
    "y_train = to_categorical(y_train-1, 5)\n",
    "y_test = to_categorical(y_test-1, 5)"
   ]
  },
  {
   "cell_type": "code",
   "execution_count": 6,
   "metadata": {},
   "outputs": [
    {
     "data": {
      "text/plain": [
       "array([[0., 0., 0., 1., 0.],\n",
       "       [1., 0., 0., 0., 0.],\n",
       "       [0., 0., 0., 0., 1.],\n",
       "       ...,\n",
       "       [0., 0., 0., 0., 1.],\n",
       "       [0., 0., 0., 1., 0.],\n",
       "       [1., 0., 0., 0., 0.]], dtype=float32)"
      ]
     },
     "execution_count": 6,
     "metadata": {},
     "output_type": "execute_result"
    }
   ],
   "source": [
    "y_test"
   ]
  },
  {
   "cell_type": "code",
   "execution_count": 7,
   "metadata": {},
   "outputs": [],
   "source": [
    "\n",
    "# Using keras to load the dataset with the 10,000 most used words\n",
    "top_words = 10000\n",
    "\n",
    "\n",
    "# Pad the sequence (no need)\n",
    "max_review_length = 10000\n",
    "#X_train = sequence.pad_sequences(X_train, maxlen=max_review_length)\n",
    "#X_test = sequence.pad_sequences(X_test, maxlen=max_review_length)\n"
   ]
  },
  {
   "cell_type": "markdown",
   "metadata": {},
   "source": [
    "'''\n",
    "Layer names from parent CNN\n",
    "0 embedding_6\n",
    "1 conv1d_11\n",
    "2 max_pooling1d_4\n",
    "3 conv1d_12\n",
    "4 max_pooling1d_5\n",
    "5 conv1d_13\n",
    "6 max_pooling1d_6\n",
    "7 flatten_2\n",
    "8 dropout_3\n",
    "9 dense_3\n",
    "10 dropout_4\n",
    "11 dense_4\n",
    "'''"
   ]
  },
  {
   "cell_type": "code",
   "execution_count": 8,
   "metadata": {},
   "outputs": [],
   "source": [
    "# Using embedding from Keras\n",
    "embedding_vecor_length = 300\n",
    "\n",
    "#initialize the model\n",
    "model = Sequential()\n",
    "\n",
    "#maps vocab indices into embedding_dims dimensions\n",
    "#keep the names of the ops the same to keep the weights\n",
    "model.add(Embedding(top_words, embedding_vecor_length, input_length=max_review_length, name='embedding_6'))\n",
    "\n",
    "# Convolutional model (3x conv, flatten, 2x dense)\n",
    "model.add(Conv1D(64, 3, padding='same', activation='relu', name='conv1d_11'))\n",
    "model.add(MaxPooling1D(pool_size=2, name='max_pooling1d_4'))\n",
    "model.add(Conv1D(32, 3, padding='same', activation='relu', name='conv1d_12'))\n",
    "model.add(MaxPooling1D(pool_size=2, name='max_pooling1d_5'))\n",
    "model.add(Conv1D(16, 3, padding='same', activation='relu', name='conv1d_13'))\n",
    "model.add(MaxPooling1D(pool_size=2, name='max_pooling1d_6'))\n",
    "model.add(Flatten(name='flatten_2'))\n",
    "model.add(Dropout(0.2))\n",
    "model.add(Dense(180,activation='sigmoid', name='new_dense_1'))\n",
    "model.add(Dropout(0.2))\n",
    "model.add(Dense(5,activation='softmax', name='new_dense_2'))\n"
   ]
  },
  {
   "cell_type": "code",
   "execution_count": 9,
   "metadata": {},
   "outputs": [],
   "source": [
    "model.load_weights('./data/imdb_cnn_model_weights.h5', by_name=True)"
   ]
  },
  {
   "cell_type": "code",
   "execution_count": 17,
   "metadata": {},
   "outputs": [
    {
     "name": "stdout",
     "output_type": "stream",
     "text": [
      "____________________________________________________________________________________________________\n",
      "Layer (type)                                 Output Shape                            Param #        \n",
      "====================================================================================================\n",
      "embedding_6 (Embedding)                      (None, 10000, 300)                      3000000        \n",
      "____________________________________________________________________________________________________\n",
      "conv1d_11 (Conv1D)                           (None, 10000, 64)                       57664          \n",
      "____________________________________________________________________________________________________\n",
      "max_pooling1d_4 (MaxPooling1D)               (None, 5000, 64)                        0              \n",
      "____________________________________________________________________________________________________\n",
      "conv1d_12 (Conv1D)                           (None, 5000, 32)                        6176           \n",
      "____________________________________________________________________________________________________\n",
      "max_pooling1d_5 (MaxPooling1D)               (None, 2500, 32)                        0              \n",
      "____________________________________________________________________________________________________\n",
      "conv1d_13 (Conv1D)                           (None, 2500, 16)                        1552           \n",
      "____________________________________________________________________________________________________\n",
      "max_pooling1d_6 (MaxPooling1D)               (None, 1250, 16)                        0              \n",
      "____________________________________________________________________________________________________\n",
      "flatten_2 (Flatten)                          (None, 20000)                           0              \n",
      "____________________________________________________________________________________________________\n",
      "dropout_3 (Dropout)                          (None, 20000)                           0              \n",
      "____________________________________________________________________________________________________\n",
      "new_dense_1 (Dense)                          (None, 180)                             3600180        \n",
      "____________________________________________________________________________________________________\n",
      "dropout_4 (Dropout)                          (None, 180)                             0              \n",
      "____________________________________________________________________________________________________\n",
      "new_dense_2 (Dense)                          (None, 5)                               905            \n",
      "====================================================================================================\n",
      "Total params: 6,666,477\n",
      "Trainable params: 6,666,477\n",
      "Non-trainable params: 0\n",
      "____________________________________________________________________________________________________\n"
     ]
    }
   ],
   "source": [
    "model.summary(line_length=100)"
   ]
  },
  {
   "cell_type": "code",
   "execution_count": 10,
   "metadata": {},
   "outputs": [],
   "source": [
    "##Freeze bottom layers except last\n",
    "#for layer in model.layers[:7]:\n",
    "#    layer.trainable=False    \n",
    "    \n",
    "#for layer in model.layers[7:]:\n",
    "#    layer.trainable=True"
   ]
  },
  {
   "cell_type": "code",
   "execution_count": 11,
   "metadata": {},
   "outputs": [],
   "source": [
    "# Log to tensorboard\n",
    "tensorBoardCallback = TensorBoard(log_dir='./logs', write_graph=True)\n",
    "\n",
    "# Compile ops for tensorflow\n",
    "model.compile(loss='categorical_crossentropy', optimizer='adam', metrics=['accuracy'])"
   ]
  },
  {
   "cell_type": "code",
   "execution_count": 12,
   "metadata": {},
   "outputs": [
    {
     "name": "stdout",
     "output_type": "stream",
     "text": [
      "Epoch 1/10\n",
      "8000/8000 [==============================] - 884s 111ms/step - loss: 1.2281 - acc: 0.4705\n",
      "Epoch 2/10\n",
      "8000/8000 [==============================] - 880s 110ms/step - loss: 0.8650 - acc: 0.6345\n",
      "Epoch 3/10\n",
      "8000/8000 [==============================] - 873s 109ms/step - loss: 0.7029 - acc: 0.7113\n",
      "Epoch 4/10\n",
      "8000/8000 [==============================] - 879s 110ms/step - loss: 0.5948 - acc: 0.7686\n",
      "Epoch 5/10\n",
      "8000/8000 [==============================] - 875s 109ms/step - loss: 0.5138 - acc: 0.8096\n",
      "Epoch 6/10\n",
      "8000/8000 [==============================] - 873s 109ms/step - loss: 0.4554 - acc: 0.8364\n",
      "Epoch 7/10\n",
      "8000/8000 [==============================] - 870s 109ms/step - loss: 0.3995 - acc: 0.8618\n",
      "Epoch 8/10\n",
      "8000/8000 [==============================] - 871s 109ms/step - loss: 0.3428 - acc: 0.8895\n",
      "Epoch 9/10\n",
      "8000/8000 [==============================] - 869s 109ms/step - loss: 0.3029 - acc: 0.9026\n",
      "Epoch 10/10\n",
      "8000/8000 [==============================] - 872s 109ms/step - loss: 0.2719 - acc: 0.9140\n"
     ]
    },
    {
     "data": {
      "text/plain": [
       "<keras.callbacks.History at 0x23cfcc95fd0>"
      ]
     },
     "execution_count": 12,
     "metadata": {},
     "output_type": "execute_result"
    }
   ],
   "source": [
    "#Execute\n",
    "model.fit(X_train, y_train, epochs=10, callbacks=[tensorBoardCallback], batch_size=64)\n"
   ]
  },
  {
   "cell_type": "code",
   "execution_count": 13,
   "metadata": {},
   "outputs": [
    {
     "name": "stdout",
     "output_type": "stream",
     "text": [
      "Accuracy: 57.70%\n"
     ]
    }
   ],
   "source": [
    "# Evaluation on the test set - freezing no layers\n",
    "scores = model.evaluate(X_test, y_test, verbose=0)\n",
    "print(\"Accuracy: %.2f%%\" % (scores[1]*100))"
   ]
  },
  {
   "cell_type": "markdown",
   "metadata": {},
   "source": [
    "Training is much higher (overfit?). Testing is slightly lower. Let's use this method in the final CNN. As for doc2vec..."
   ]
  },
  {
   "cell_type": "code",
   "execution_count": 85,
   "metadata": {},
   "outputs": [],
   "source": [
    "# to use tensorboard:\n",
    "# tensorboard --logdir C:\\ so on (NO SPACES)"
   ]
  },
  {
   "cell_type": "markdown",
   "metadata": {},
   "source": [
    "Freezing convolution layers gave ~60% training accuracy."
   ]
  },
  {
   "cell_type": "code",
   "execution_count": 15,
   "metadata": {},
   "outputs": [
    {
     "data": {
      "text/plain": [
       "['loss', 'acc']"
      ]
     },
     "execution_count": 15,
     "metadata": {},
     "output_type": "execute_result"
    }
   ],
   "source": [
    "model.metrics_names"
   ]
  },
  {
   "cell_type": "code",
   "execution_count": 18,
   "metadata": {},
   "outputs": [
    {
     "data": {
      "image/png": "[encoded data removed]",
      "text/plain": [
       "<Figure size 432x288 with 1 Axes>"
      ]
     },
     "metadata": {
      "needs_background": "light"
     },
     "output_type": "display_data"
    },
    {
     "data": {
      "image/png": "[encoded data removed]",
      "text/plain": [
       "<Figure size 432x288 with 1 Axes>"
      ]
     },
     "metadata": {
      "needs_background": "light"
     },
     "output_type": "display_data"
    }
   ],
   "source": [
    "import matplotlib.pyplot as plt\n",
    "\n",
    "# summarize history for accuracy\n",
    "plt.plot(range(1,11), model.history.history['acc'])\n",
    "#plt.plot(model.history.history['val_acc'])\n",
    "plt.title('model accuracy')\n",
    "plt.ylabel('accuracy')\n",
    "plt.xlabel('epoch')\n",
    "plt.xticks(range(1,11))\n",
    "plt.legend(['train', 'valid'], loc='upper left')\n",
    "plt.show()\n",
    "\n",
    "# summarize history for loss\n",
    "plt.plot(range(1,11), model.history.history['loss'])\n",
    "#plt.plot(model.history.history['val_loss'])\n",
    "plt.title('model loss')\n",
    "plt.ylabel('loss')\n",
    "plt.xlabel('epoch')\n",
    "plt.xticks(range(1,11))\n",
    "plt.legend(['train', 'valid'], loc='upper left')\n",
    "plt.show()"
   ]
  },
  {
   "cell_type": "code",
   "execution_count": null,
   "metadata": {},
   "outputs": [],
   "source": []
  }
 ],
 "metadata": {
  "kernelspec": {
   "display_name": "Python 3",
   "language": "python",
   "name": "python3"
  },
  "language_info": {
   "codemirror_mode": {
    "name": "ipython",
    "version": 3
   },
   "file_extension": ".py",
   "mimetype": "text/x-python",
   "name": "python",
   "nbconvert_exporter": "python",
   "pygments_lexer": "ipython3",
   "version": "3.6.7"
  }
 },
 "nbformat": 4,
 "nbformat_minor": 2
}
